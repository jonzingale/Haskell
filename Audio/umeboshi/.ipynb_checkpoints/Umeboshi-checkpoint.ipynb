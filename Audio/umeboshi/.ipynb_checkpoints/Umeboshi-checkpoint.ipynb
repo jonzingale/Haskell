{
 "cells": [
  {
   "cell_type": "markdown",
   "metadata": {},
   "source": [
    "## Umeboshi - A Haskell Drum Machine\n",
    "\n",
    "```\n",
    "Umeboshi is a drum machine written in Haskell and built from a Roland 808 sound bank.\n",
    "The drum machine is designed to facilitate poly-rhythmic percussion in non-standard\n",
    "time signatures. It relies heavily Unboxed Vector types and the Data.WAVE library.\n",
    "```\n",
    "```\n",
    "Historically by design, many drum machines facilitate writing drum patterns in common\n",
    "3/4 and 4/4 time signatures and render the ability to have more unusual rhythms such\n",
    "as an even pentuplet over three quarter notes, say, nearly impossible. This limitation\n",
    "arguably has had an coercive on the forms of music typically made with drum machines.\n",
    "Umeboshi is an attempt to fill the gap left by such design choices.\n",
    "```\n",
    "\n",
    "```\n",
    "Methods such as buildMeasure allow users to write such a conga pentuplet over a three\n",
    "quarter note measure as easily as writing: buildMeasure 122 (Time 3 4) [(\"xxxxx\", conga)].\n",
    "By passing a length five string of either '.' or 'x' and instrument type conga, umeboshi\n",
    "determines that a conga should be played evenly five times over the 3/4 measure.\n",
    "\n",
    "makeWavFile (thanks to the wonderful Data.WAVE library) then can produce a wav file\n",
    "of the constructed rhythm.\n",
    "```"
   ]
  },
  {
   "cell_type": "code",
   "execution_count": null,
   "metadata": {
    "collapsed": true
   },
   "outputs": [],
   "source": []
  }
 ],
 "metadata": {
  "kernelspec": {
   "display_name": "Haskell",
   "language": "haskell",
   "name": "haskell"
  },
  "language_info": {
   "codemirror_mode": "ihaskell",
   "file_extension": ".hs",
   "name": "haskell",
   "version": "8.0.2"
  }
 },
 "nbformat": 4,
 "nbformat_minor": 2
}
