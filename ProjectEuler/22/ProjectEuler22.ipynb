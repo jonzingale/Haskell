{
 "cells": [
  {
   "cell_type": "markdown",
   "metadata": {},
   "source": [
    "### Names scores\n",
    "\n",
    "Using names.txt, a file containing over five-thousand first names, begin by sorting it into alphabetical order.<br>\n",
    "Then working out the alphabetical value for each name,<br>\n",
    "multiply this value by its alphabetical position in the list to obtain a name score.\n",
    "\n",
    "For example, when the list is sorted into alphabetical order, COLIN, which is worth 3 + 15 + 12 + 9 + 14 = 53,<br>\n",
    "is the 938th name in the list. So, COLIN would obtain a score of 938 × 53 = 49714.\n",
    "\n",
    "What is the total of all the name scores in the file?"
   ]
  },
  {
   "cell_type": "code",
   "execution_count": 2,
   "metadata": {},
   "outputs": [],
   "source": [
    "import Data.Char\n",
    "import Names"
   ]
  },
  {
   "cell_type": "markdown",
   "metadata": {},
   "source": [
    "I begin by importing `Names` and `Data.Char`. `Names` a is module whose only function is `names :: [String]`.<br> `Data.Char` is useful because `ord :: Char -> Int` gives a way to convert character to numbers.<br>\n",
    "Next, I need a way to sort the list and so I implement a quick sort."
   ]
  },
  {
   "cell_type": "code",
   "execution_count": 3,
   "metadata": {
    "collapsed": true
   },
   "outputs": [],
   "source": [
    "qsort :: Ord a => [a] -> [a]\n",
    "qsort [] = []\n",
    "qsort (x:xs) = (qsort.smalls) (x:xs) ++ [x] ++ (qsort.bigs) (x:xs)\n",
    "  where\n",
    "    smalls (a:as) = [t | t<-as, t < a]\n",
    "    bigs   (a:as) = [t | t<-as, t > a]"
   ]
  },
  {
   "cell_type": "markdown",
   "metadata": {},
   "source": [
    "`charToInt :: Char -> Integer` and `nameToInt :: String -> Integer` are defined next. The both return<br>\n",
    "`Integer` type so that I needn't worry about block size. The first converts a given character to its place-value<br>\n",
    "in the alphabet. The second provides a method for converting an entire word to the sum place-values of its characters.<br>"
   ]
  },
  {
   "cell_type": "code",
   "execution_count": 4,
   "metadata": {
    "collapsed": true
   },
   "outputs": [],
   "source": [
    "charToInt :: Char -> Integer\n",
    "charToInt alpha =  fromIntegral $ ord alpha - 64\n",
    "\n",
    "nameToInt :: String -> Integer\n",
    "nameToInt name = sum.map charToInt $ name"
   ]
  },
  {
   "cell_type": "markdown",
   "metadata": {},
   "source": [
    "Lastly, `challenge22` computes the project euler challenge."
   ]
  },
  {
   "cell_type": "code",
   "execution_count": 5,
   "metadata": {
    "collapsed": true
   },
   "outputs": [],
   "source": [
    "challenge22 :: Integer\n",
    "challenge22 = sum [i * nameToInt name | (i,name) <- zip [1..] (qsort names)]"
   ]
  },
  {
   "cell_type": "code",
   "execution_count": 6,
   "metadata": {},
   "outputs": [
    {
     "data": {
      "text/plain": [
       "871198282"
      ]
     },
     "metadata": {},
     "output_type": "display_data"
    }
   ],
   "source": [
    "challenge22"
   ]
  }
 ],
 "metadata": {
  "kernelspec": {
   "display_name": "Haskell",
   "language": "haskell",
   "name": "haskell"
  },
  "language_info": {
   "codemirror_mode": "ihaskell",
   "file_extension": ".hs",
   "name": "haskell",
   "version": "8.0.2"
  }
 },
 "nbformat": 4,
 "nbformat_minor": 2
}
