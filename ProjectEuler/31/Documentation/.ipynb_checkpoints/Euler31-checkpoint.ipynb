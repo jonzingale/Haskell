{
 "cells": [
  {
   "cell_type": "markdown",
   "metadata": {},
   "source": [
    "## Coin Sums:\n",
    "In England the currency is made up of pound, £, and pence, p,<br>\n",
    "and there are eight coins in general circulation:<p>\n",
    "\n",
    "1p, 2p, 5p, 10p, 20p, 50p, £1 (100p) and £2 (200p).<p>\n",
    "\n",
    "It is possible to make £2 in the following way:<br>\n",
    "1×£1 + 1×50p + 2×20p + 1×5p + 1×2p + 3×1p<p>\n",
    "How many different ways can £2 be made<br>\n",
    "using any number of coins?<br>"
   ]
  },
  {
   "cell_type": "markdown",
   "metadata": {},
   "source": [
    "#### Solution:\n",
    "\n",
    "The strategy here is to formulate the problem in the language<br>\n",
    "of generating functions, noticing that the sum can be understood as:<p>\n",
    "\n",
    "$ \\sum _{j=0} ^{200} {c_j x^{j}} * \\sum _{j=0} ^{100} {c_j x^{2j}} * \\sum _{j=0} ^{40} {c_j x^{5j}} * ... * \\sum _{j=0} ^{2} {c_j x^{100j}} * \\sum _{j=0} ^{1} {c_j x^{200j}}$<p>\n",
    "The solution then is the 200th coefficient in this expansion.<p>\n",
    "\n",
    "To see how this can be true consider a scaled down example. Imagine wanting to calculate<br>\n",
    "the number of ways one can break a 5 dollar bill into 1's, 2's and 3's. The associated<br>\n",
    "product of sums is then:<p>\n",
    "\n",
    "$ \\sum _{j=0} ^{5} {c_j x^{j}} * \\sum _{j=0} ^{2} {c_j x^{2j}} * \\sum _{j=0} ^{1} {c_j x^{3j}} $<p>\n",
    "Which when spelled out spells like:<p>\n",
    "$\\sum _{j=0} ^{5} {c_j x^{j}} * (1 + x^2 + x^4) * (1 + x^3)$<br>\n",
    "$\\sum _{j=0} ^{5} {c_j x^{j}} * (1 + x^2 + x^3 + x^4 + x^{2+3} + x^{4+3})$<br>\n",
    "$(1 + x + x^2 + x^3 + x^4 + x^5)(1 + x^2 + x^3 + x^4 + x^{2+3} + x^{4+3})$<br>\n",
    "$1 + x + 2x^2 + 3x^3 + 4x^4 + 5x^5 + 4x^6 + 5x^7 + 4x^8 + 3x^9 + 2x^{10} + x^{11} + x^{12}$<br>\n",
    "In array notation: `[1,1,2,3,4,5,4,5,4,3,2,1,1,0,0,0]`<p>\n",
    "Since we only care for the ways of summing to 5 the coefficient of $5x^5$ is 5.<br>\n",
    "Along the calculation it is helpful to notice that the exponentiation rule,<br>\n",
    "$x^2x^3=x^5$, does the work of summing the partitions.<p> \n",
    "\n",
    "To develop this approach it will be useful to borrow a technique of extending<br>\n",
    "numerical lists to behave like polynomials (thanks Matt Wetmore):"
   ]
  },
  {
   "cell_type": "code",
   "execution_count": 5,
   "metadata": {
    "collapsed": true
   },
   "outputs": [],
   "source": [
    "instance Num a => Num [a] where\n",
    "  fromInteger n = [fromInteger n]\n",
    "  (x:xs) + (y:ys) = (x + y) : (xs + ys)\n",
    "  xs + [] = xs\n",
    "  [] + ys = ys\n",
    "  (x:xs) * (y:ys) = (x*y) : ([x] * ys + xs * (y:ys))\n",
    "  _ * _ = []\n",
    "  \n",
    "choose :: Int -> Int -> Int\n",
    "choose n k = ([1,1]^n) !! k"
   ]
  },
  {
   "cell_type": "markdown",
   "metadata": {},
   "source": [
    "so now, for instance, we can compute binomial coefficents in a straight ahead manner:"
   ]
  },
  {
   "cell_type": "code",
   "execution_count": 4,
   "metadata": {},
   "outputs": [
    {
     "data": {
      "text/plain": [
       "120"
      ]
     },
     "metadata": {},
     "output_type": "display_data"
    }
   ],
   "source": [
    "choose 10 3"
   ]
  },
  {
   "cell_type": "markdown",
   "metadata": {},
   "source": [
    "Each of the summands above is now translated effectively to sparse lists:<p>\n",
    "$\\sum _{j=0}^{3}{x^{2j}} =$ `[1,0,1,0,1,0,1]`<p>\n",
    "with products are computed accordingly.<br>\n"
   ]
  },
  {
   "cell_type": "code",
   "execution_count": 6,
   "metadata": {},
   "outputs": [
    {
     "data": {
      "text/plain": [
       "[1,0,2,0,3,0,4,0,3,0,2,0,1]"
      ]
     },
     "metadata": {},
     "output_type": "display_data"
    }
   ],
   "source": [
    "[1,0,1,0,1,0,1] * [1,0,1,0,1,0,1]"
   ]
  },
  {
   "cell_type": "markdown",
   "metadata": {},
   "source": [
    "Great, now all that is needed is a way to generate such lists.<br>\n",
    "Below, I define the types of currencies as `uk` which gets passed to `cycles`,<br>\n",
    "which produces our lists. Taking the product of these polynomial arrays and<br>\n",
    "grabbing the 200th entry then gives the solution."
   ]
  },
  {
   "cell_type": "code",
   "execution_count": 11,
   "metadata": {},
   "outputs": [],
   "source": [
    "uk = [1,2,5,10,20,50,100,200]\n",
    "\n",
    "cycles bound n = [ f k n | k <- [0..bound]]\n",
    "  where\n",
    "    f j m | mod j m == 0 = 1\n",
    "          | otherwise = 0\n",
    "          \n",
    "euler31 = (!!200).product $ map (cycles 200) uk"
   ]
  },
  {
   "cell_type": "code",
   "execution_count": 10,
   "metadata": {},
   "outputs": [
    {
     "data": {
      "text/plain": [
       "73682"
      ]
     },
     "metadata": {},
     "output_type": "display_data"
    }
   ],
   "source": [
    "euler31"
   ]
  },
  {
   "cell_type": "code",
   "execution_count": null,
   "metadata": {
    "collapsed": true
   },
   "outputs": [],
   "source": []
  }
 ],
 "metadata": {
  "kernelspec": {
   "display_name": "Haskell",
   "language": "haskell",
   "name": "haskell"
  },
  "language_info": {
   "codemirror_mode": "ihaskell",
   "file_extension": ".hs",
   "name": "haskell",
   "version": "8.0.2"
  }
 },
 "nbformat": 4,
 "nbformat_minor": 2
}
