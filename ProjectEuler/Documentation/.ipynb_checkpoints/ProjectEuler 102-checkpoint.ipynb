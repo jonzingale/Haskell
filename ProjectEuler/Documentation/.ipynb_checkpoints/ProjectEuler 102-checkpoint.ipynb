{
 "cells": [
  {
   "cell_type": "markdown",
   "metadata": {},
   "source": [
    "### Project Euler Problem: 102\n",
    "\n",
    "Three distinct points are plotted at random on a Cartesian plane,<br>for which -1000 ≤ x, y ≤ 1000, such that a triangle is formed.\n",
    "\n",
    "Consider the following two triangles:\n",
    "\n",
    "`A(-340,495), B(-153,-910), C(835,-947)`\n",
    "\n",
    "`X(-175,41), Y(-421,-714), Z(574,-645)`\n",
    "\n",
    "It can be verified that triangle `ABC` contains the origin, whereas triangle `XYZ` does not.\n",
    "\n",
    "Using triangles.txt, a text file containing the co-ordinates of one thousand \"random\" triangles,<br>find the number of triangles for which the interior contains the origin."
   ]
  },
  {
   "cell_type": "markdown",
   "metadata": {},
   "source": [
    "### Solution: ###\n",
    "\n",
    "The goal is to build a set $\\Delta = \\{t \\mid t \\in triangles \\land \\mathbb{0} \\in t \\}$ of those triangles which include the origin.<br>\n",
    "Here is an outline of the basic strategy:<br>\n",
    "- Calculate y and x intercepts for each line.\n",
    "- Verify that intercept exists on the segment.\n",
    "- Denote each region that an intercept straddles.\n",
    "- Verify that all four regions are present, for a given triangle.\n",
    "\n",
    "\n",
    "\n",
    "\n",
    "First, the data needs to be imported and stored as a usable data structure.<br>\n",
    "I begin by importing `triangles.txt` as a csv and representing each triangle as a list of pairs."
   ]
  },
  {
   "cell_type": "code",
   "execution_count": 14,
   "metadata": {
    "collapsed": true
   },
   "outputs": [],
   "source": [
    "import qualified Data.ByteString.Lazy as BL\n",
    "import Data.Vector (Vector, empty, toList)\n",
    "import Data.Either.Extra (fromRight)\n",
    "import Data.List\n",
    "import Data.Csv\n",
    "\n",
    "csv <- BL.readFile \"triangles.txt\"\n",
    "parsedCsv = decode NoHeader csv :: Either String (Vector [Double])\n",
    "\n",
    "triangles = map f $ toList.fromRight empty $ parsedCsv\n",
    "    where\n",
    "        f [a,b,c,d,e,f] = [(a,b),(c,d),(e,f)]"
   ]
  },
  {
   "cell_type": "markdown",
   "metadata": {},
   "source": [
    "Next, I assign `[(Double, Double)]` a type synonym `Triangle`,<br>\n",
    "assign `(Double, Double)` a type synonym `Point`, and create datatypes<br>\n",
    "`Quadrant` and `Segment`."
   ]
  },
  {
   "cell_type": "code",
   "execution_count": 15,
   "metadata": {
    "collapsed": true
   },
   "outputs": [],
   "source": [
    "data Quadrant = I | II | III | IV deriving (Eq, Show)\n",
    "data Segment = S Point Point deriving (Eq, Show)\n",
    "type Triangle = [(Double, Double)]\n",
    "type Point = (Double, Double)"
   ]
  },
  {
   "cell_type": "markdown",
   "metadata": {},
   "source": [
    "Next come a pair of functions. `endToQuad` provides a method for determining<br>\n",
    "which quadrant an endpoint belongs. `ceptToQuad` provides a method for determining<br>\n",
    "which quadrants an x- or y-intercept straddles."
   ]
  },
  {
   "cell_type": "code",
   "execution_count": 16,
   "metadata": {},
   "outputs": [],
   "source": [
    "endToQuad :: Triangle -> [Quadrant]\n",
    "endToQuad [] = []\n",
    "endToQuad (pt:pts) = f pt : endToQuad pts\n",
    "  where\n",
    "    f (x,y) | and [x >= 0, y >= 0] = I\n",
    "    f (x,y) | and [x <= 0, y >= 0] = II\n",
    "    f (x,y) | and [x <= 0, y <= 0] = III\n",
    "    f (x,y) | otherwise = IV\n",
    "\n",
    "ceptToQuad :: Point -> [Quadrant]\n",
    "ceptToQuad (0,0) = [I, II, III, IV]\n",
    "ceptToQuad (0,y) | y > 0 = [I, II]\n",
    "                 | otherwise = [III, IV]\n",
    "ceptToQuad (x,0) | x > 0 = [I, IV]\n",
    "                 | otherwise = [II, III]"
   ]
  },
  {
   "cell_type": "markdown",
   "metadata": {},
   "source": [
    "Next, I define functions `xycept` and `lineMember`. The first to determine<br>\n",
    "the x- and y-intercepts of a line extending a given line segment. The second<br>\n",
    "to determine when the intercept is a member of a given line segment. The helper<br>\n",
    "`edges` is a convenience method for translating a given `Triangle` to an array<br>\n",
    "of line `Segment`s."
   ]
  },
  {
   "cell_type": "code",
   "execution_count": 17,
   "metadata": {},
   "outputs": [],
   "source": [
    "xycept :: [Segment -> Point]\n",
    "xycept = [xcept, ycept]\n",
    "  where\n",
    "    ycept (S (a,b) (c,d)) = (0 ,(a*d - c*b) / (a-c))\n",
    "    xcept (S (a,b) (c,d)) = ((c*b - a*d) / (b-d), 0)\n",
    "\n",
    "lineMember :: Segment -> Point -> Bool\n",
    "lineMember (S (a,b) (c,d)) (p,q) | a < c = f a c p\n",
    "                                 | otherwise = f c a p\n",
    "  where\n",
    "    f x y t = and [x<t, t<y] \n",
    "\n",
    "edges :: Triangle -> [Segment]\n",
    "edges [a, b, c] = [S a b, S a c, S b c]"
   ]
  },
  {
   "cell_type": "markdown",
   "metadata": {},
   "source": [
    "Now for the heavy lifting. `quadCepts` takes a line segment and calculates which<br>\n",
    "intercepts (if any) belong to the segment. If an intercept does belong, the associated<br>\n",
    "quadrants are accumulated and returned. `ceptData` then concatenates to this list of<br>\n",
    "quadrants, the quadrants belonging to the segments endpoints and this list is then<br>\n",
    "reduced by removing any duplicates. Lastly, with this information in hand, `allQuads`<br>\n",
    "verifies whether a given triangle meets the criteria of existing in all four quadrants."
   ]
  },
  {
   "cell_type": "code",
   "execution_count": 21,
   "metadata": {
    "collapsed": true
   },
   "outputs": [],
   "source": [
    "allQuads :: Triangle -> Bool -- in all Quads\n",
    "allQuads tri = (length.ceptData) tri == 4\n",
    "\n",
    "ceptData :: Triangle -> [Quadrant]\n",
    "ceptData tr = cleanConcat $ fullList tr\n",
    "  where\n",
    "    fullList t = endToQuad t : (map quadCepts (edges t)) \n",
    "    cleanConcat = remdups.concat\n",
    "    remdups [] = []\n",
    "    remdups (x:xs) = x : remdups [t | t<-xs, t /= x]\n",
    "\n",
    "quadCepts :: Segment -> [Quadrant]\n",
    "quadCepts seg = f $ xycept <*> [seg]\n",
    "  where\n",
    "    f = concat.(map ceptToQuad).filter (lineMember seg)"
   ]
  },
  {
   "cell_type": "markdown",
   "metadata": {
    "collapsed": true
   },
   "source": [
    "Putting this altogether, `euler102` returns the length of a list of all triangles filtered by `allQuads`.\n"
   ]
  },
  {
   "cell_type": "code",
   "execution_count": 24,
   "metadata": {},
   "outputs": [],
   "source": [
    "euler102 = length.filter allQuads $ triangles\n"
   ]
  },
  {
   "cell_type": "code",
   "execution_count": 25,
   "metadata": {},
   "outputs": [
    {
     "data": {
      "text/plain": [
       "228"
      ]
     },
     "metadata": {},
     "output_type": "display_data"
    }
   ],
   "source": [
    "euler102"
   ]
  }
 ],
 "metadata": {
  "kernelspec": {
   "display_name": "Haskell",
   "language": "haskell",
   "name": "haskell"
  },
  "language_info": {
   "codemirror_mode": "ihaskell",
   "file_extension": ".hs",
   "name": "haskell",
   "version": "8.0.2"
  }
 },
 "nbformat": 4,
 "nbformat_minor": 2
}
