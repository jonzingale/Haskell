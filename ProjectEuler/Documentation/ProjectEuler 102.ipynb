{
 "cells": [
  {
   "cell_type": "markdown",
   "metadata": {},
   "source": [
    "### Project Euler Problem: 102\n",
    "\n",
    "Three distinct points are plotted at random on a Cartesian plane, for which -1000 ≤ x, y ≤ 1000, such that a triangle is formed.\n",
    "\n",
    "Consider the following two triangles:\n",
    "\n",
    "A(-340,495), B(-153,-910), C(835,-947)\n",
    "\n",
    "X(-175,41), Y(-421,-714), Z(574,-645)\n",
    "\n",
    "It can be verified that triangle ABC contains the origin, whereas triangle XYZ does not.\n",
    "\n",
    "Using triangles.txt (right click and 'Save Link/Target As...'), a 27K text file containing the co-ordinates of one thousand \"random\" triangles, find the number of triangles for which the interior contains the origin.\n",
    "\n",
    "NOTE: The first two examples in the file represent the triangles in the example given above."
   ]
  },
  {
   "cell_type": "markdown",
   "metadata": {},
   "source": [
    "### Solution ###\n",
    "\n",
    "The strategy here is to begin by noticing that any triangle, which contains $\\mathbb{0}$<br>\n",
    "in its interior, extends to all four quadrants of its graph.<p>\n",
    "\n",
    "To implement these ideas, I begin by importing the array-ified Triangles, assign their type a type synonym,<br>\n",
    "create a Quadrants datatype, and give this datatype some useful methods.<br>\n"
   ]
  },
  {
   "cell_type": "code",
   "execution_count": 6,
   "metadata": {},
   "outputs": [],
   "source": [
    "import Triangles -- exports a single function triangles::Triangle\n",
    "\n",
    "type Triangle = [(Integer, Integer)]\n",
    "data Quadrant = I | II | III | IV deriving (Eq, Show)\n",
    "\n",
    "toQuad :: Triangle -> [Quadrant]\n",
    "toQuad [] = []\n",
    "toQuad (pt:pts) = f pt : toQuad pts\n",
    "  where\n",
    "    f (x,y) | and [x >= 0, y >= 0] = I\n",
    "    f (x,y) | and [x <= 0, y >= 0] = II\n",
    "    f (x,y) | and [x <= 0, y <= 0] = III\n",
    "    f (x,y) | otherwise = IV\n",
    "\n",
    "coords :: Triangle -> [Integer]\n",
    "coords [(a,b),(c,d),(e,f)] = [a,b,c,d,e,f]"
   ]
  },
  {
   "cell_type": "code",
   "execution_count": null,
   "metadata": {},
   "outputs": [],
   "source": []
  },
  {
   "cell_type": "code",
   "execution_count": null,
   "metadata": {
    "collapsed": true
   },
   "outputs": [],
   "source": []
  }
 ],
 "metadata": {
  "kernelspec": {
   "display_name": "Haskell",
   "language": "haskell",
   "name": "haskell"
  },
  "language_info": {
   "codemirror_mode": "ihaskell",
   "file_extension": ".hs",
   "name": "haskell",
   "version": "8.0.2"
  }
 },
 "nbformat": 4,
 "nbformat_minor": 2
}
