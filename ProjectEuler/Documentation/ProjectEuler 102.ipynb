{
 "cells": [
  {
   "cell_type": "markdown",
   "metadata": {},
   "source": [
    "### Project Euler Problem: 102\n",
    "\n",
    "Three distinct points are plotted at random on a Cartesian plane,<br>for which -1000 ≤ x, y ≤ 1000, such that a triangle is formed.\n",
    "\n",
    "Consider the following two triangles:\n",
    "\n",
    "`A(-340,495), B(-153,-910), C(835,-947)`\n",
    "\n",
    "`X(-175,41), Y(-421,-714), Z(574,-645)`\n",
    "\n",
    "It can be verified that triangle `ABC` contains the origin, whereas triangle `XYZ` does not.\n",
    "\n",
    "Using triangles.txt, a text file containing the co-ordinates of one thousand \"random\" triangles,<br>find the number of triangles for which the interior contains the origin."
   ]
  },
  {
   "cell_type": "markdown",
   "metadata": {},
   "source": [
    "### Solution: ###\n",
    "\n",
    "The goal is to build a set $\\Delta = \\{t \\mid t \\in triangles \\land \\mathbb{0} \\in t \\}$ of those triangles which include the origin.<br>\n",
    "Let's notice a few facts about the problem:\n",
    "- Any triangle, which contains $\\mathbb{0}$ in its interior, extends to all four quadrants of its graph.\n",
    "- If $\\mathbb{0}$ is an endpoint or a point on an edge, then the triangle is contained in the $\\Delta$.\n",
    "- Any edge which belongs to cater-corner quadrants either passes through a third quadrant or through $\\mathbb{0}$.\n",
    "- Given a line through cater-corner quadrants, the x and y -intercepts determine a third quadrant.\n",
    "- If all of the endpoints of a triangle are in the same quadrant, then the triangle does not contain $\\mathbb{0}$.\n",
    "- Vertical edges will have infinite slope.\n",
    "\n",
    "First, the data needs to be imported and stored as a usable data structure.<br>\n",
    "I begin by importing `triangles.txt` as a csv and representing each triangle as a list of pairs."
   ]
  },
  {
   "cell_type": "code",
   "execution_count": 53,
   "metadata": {
    "collapsed": true
   },
   "outputs": [],
   "source": [
    "import qualified Data.ByteString.Lazy as BL\n",
    "import Data.Vector (Vector, empty, toList)\n",
    "import Data.Either.Extra (fromRight)\n",
    "import Data.List\n",
    "import Data.Csv\n",
    "\n",
    "csv <- BL.readFile \"triangles.txt\"\n",
    "parsedCsv = decode NoHeader csv :: Either String (Vector [Integer])\n",
    "\n",
    "triangles = map f $ toList.fromRight empty $ parsedCsv\n",
    "    where\n",
    "        f [a,b,c,d,e,f] = [(a,b),(c,d),(e,f)]"
   ]
  },
  {
   "cell_type": "markdown",
   "metadata": {},
   "source": [
    "Next, I assign `[(Integer, Integer)]` a type synonym `Triangle`,<br>\n",
    "create a datatype `Quadrant`, and give this datatype some accessor methods.<br>"
   ]
  },
  {
   "cell_type": "code",
   "execution_count": 54,
   "metadata": {
    "collapsed": true
   },
   "outputs": [],
   "source": [
    "type Triangle = [(Integer, Integer)]\n",
    "data Quadrant = I | II | III | IV deriving (Eq, Show)\n",
    "\n",
    "toQuad :: Triangle -> [Quadrant]\n",
    "toQuad [] = []\n",
    "toQuad (pt:pts) = f pt : toQuad pts\n",
    "  where\n",
    "    f (x,y) | and [x >= 0, y >= 0] = I\n",
    "    f (x,y) | and [x <= 0, y >= 0] = II\n",
    "    f (x,y) | and [x <= 0, y <= 0] = III\n",
    "    f (x,y) | otherwise = IV\n",
    "\n",
    "coords :: Triangle -> [Integer]\n",
    "coords [(a,b),(c,d),(e,f)] = [a,b,c,d,e,f]"
   ]
  },
  {
   "cell_type": "markdown",
   "metadata": {},
   "source": [
    "Next come a slew of functions characterizing the observations above."
   ]
  },
  {
   "cell_type": "code",
   "execution_count": 55,
   "metadata": {
    "collapsed": true
   },
   "outputs": [],
   "source": [
    "onZero :: Triangle -> Bool -- endpoint is at (0,0)\n",
    "onZero = any (== 0).coords\n",
    "\n",
    "verticalEdge :: Triangle -> Bool -- same Xs\n",
    "verticalEdge [] = False\n",
    "verticalEdge ((p,q):ts) | any (== p) $ map fst ts = True\n",
    "                        | otherwise = verticalEdge ts \n",
    "\n",
    "sameQuadrant :: Triangle -> Bool -- endpoints are all in same Quadrant.\n",
    "sameQuadrant pts = f.toQuad $ pts\n",
    "  where\n",
    "    f (pt:pts) = all (== pt) pts"
   ]
  },
  {
   "cell_type": "markdown",
   "metadata": {},
   "source": [
    "Now, I employ a sieving strategy, processing the list recursively in tiers. The sieving process relies on<br> `partition :: (a -> Bool) -> [a] -> ([a], [a])`, which lives in `Data.List`.<br>\n",
    "The left list contains those elements for which the boolean-valued function is `True`, the other `False`."
   ]
  },
  {
   "cell_type": "code",
   "execution_count": 60,
   "metadata": {
    "collapsed": true
   },
   "outputs": [],
   "source": [
    "partsSameQuad, partsOnVerts, partsOnZero :: [Triangle] -> ([Triangle], [Triangle])\n",
    "partsSameQuad = partition sameQuadrant\n",
    "partsOnVerts = partition verticalEdge\n",
    "partsOnZero = partition onZero"
   ]
  },
  {
   "cell_type": "markdown",
   "metadata": {},
   "source": [
    "1) separately check verticalEdges first as they will not have slopes.<br>\n",
    "2) include any with a zero endpoint.<br>\n",
    "3) remove if every edge is in the same quadrant, because it doesn't contain 0.<br>\n",
    "\n"
   ]
  },
  {
   "cell_type": "code",
   "execution_count": 61,
   "metadata": {
    "collapsed": true
   },
   "outputs": [],
   "source": [
    "quadI :: Triangle -> Bool -- endpoint ++ or II->IV line passes zero or higher.\n",
    "quadI triangle = any (== I) $ toQuad triangle\n",
    "\n",
    "-- hmmm. x- y- intercepts for lines, but these are segments."
   ]
  },
  {
   "cell_type": "code",
   "execution_count": null,
   "metadata": {
    "collapsed": true
   },
   "outputs": [],
   "source": []
  }
 ],
 "metadata": {
  "kernelspec": {
   "display_name": "Haskell",
   "language": "haskell",
   "name": "haskell"
  },
  "language_info": {
   "codemirror_mode": "ihaskell",
   "file_extension": ".hs",
   "name": "haskell",
   "version": "8.0.2"
  }
 },
 "nbformat": 4,
 "nbformat_minor": 2
}
