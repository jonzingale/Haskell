{
 "cells": [
  {
   "cell_type": "markdown",
   "metadata": {},
   "source": [
    "#### Riffle Shuffles:\n",
    "A riffle shuffle is executed as follows: a deck of cards is split into two equal halves, with the top half taken in the left hand and the bottom half taken in the right hand. Next, the cards are interleaved exactly, with the top card in the right half inserted just after the top card in the left half, the 2nd card in the right half just after the 2nd card in the left half, etc. (Note that this process preserves the location of the top and bottom card of the deck)<p>\n",
    "\n",
    "Let s(n) be the minimum number of consecutive riffle shuffles needed to restore a deck of size n to its original configuration, where n is a positive even number.<p>\n",
    "\n",
    "Amazingly, a standard deck of 52 cards will first return to its original configuration after only 8 perfect shuffles, so s(52)=8. It can be verified that a deck of 86 cards will also return to its original configuration after exactly 8 shuffles, and the sum of all values of n that satisfy s(n)=8 is 412.<p>\n",
    "\n",
    "Find the sum of all values of n that satisfy s(n)=60.\n",
    "\n"
   ]
  },
  {
   "cell_type": "markdown",
   "metadata": {},
   "source": [
    "#### Solution:\n",
    "\n",
    "First, I wrote out the rotations for a few of small deck sizes. Each time, I only followed the second card in the deck. It became clear that after each shuffle the 2 card had displaced by a power of 2 modulo the deck size. To get back to the original configuration would then require 2deckSize - 1 shuffles. Next, I wrote a function to test this for decks which return in 8 steps and not fewer. This required finding which factors of 8 were troublesome. Of course, any deck size larger than 256 would not divide 256 and so is a fine stopping point.<p>"
   ]
  },
  {
   "cell_type": "code",
   "execution_count": 2,
   "metadata": {
    "collapsed": true
   },
   "outputs": [],
   "source": [
    "simpler = f 2 0\n",
    "  where\n",
    "    f 258 acum = acum\n",
    "    f n acum | dd n && cc n = f (n+2) (n+acum)\n",
    "             | otherwise = f (n+2) acum\n",
    "\n",
    "    cc n = mod 16 (n-1) /= 1\n",
    "    dd n = mod 256 (n-1) == 1"
   ]
  },
  {
   "cell_type": "markdown",
   "metadata": {},
   "source": [
    "Lo and behold, it landed the correct solution of 412.\n",
    "\n",
    "Unfortunately, when I extended this to the cycles of length 60 the time complexity blew up linearly and my algorithm would only finish in 3000 years. Over lunch it occurred to me to look at the prime factorization for 260 and it's troublesome factors. When I did, It became obvious that the total space could be reduced to 13 binary dimensions and that all common factors could be found bitwise."
   ]
  },
  {
   "cell_type": "code",
   "execution_count": 2,
   "metadata": {
    "collapsed": true
   },
   "outputs": [],
   "source": [
    "import Data.Bits\n",
    "\n",
    "euler622 = sum.remSort $ map ((+ 1).eval) goodBits\n",
    "\n",
    "mapping = [3,3,5,5,7,11,13,31,41,151,331,1321,61]\n",
    "\n",
    "goodBits :: [Integer]\n",
    "goodBits = [n | n<-[1..2^13-1], bitCond n]\n",
    "  where\n",
    "    cond b = all (\\c -> b .&. c /= b) \n",
    "    bitCond b | b <= 85   = cond b [1715,1714,1713,656,430,429,426,425,422,421,91,90,89,87,86,85]\n",
    "              | b <= 86   = cond b [1715,1714,1713,656,430,429,426,425,422,421,91,90,89,87,86]\n",
    "              | b <= 87   = cond b [1715,1714,1713,656,430,429,426,425,422,421,91,90,89,87]\n",
    "              | b <= 89   = cond b [1715,1714,1713,656,430,429,426,425,422,421,91,90,89]\n",
    "              | b <= 90   = cond b [1715,1714,1713,656,430,429,426,425,422,421,91,90]\n",
    "              | b <= 91   = cond b [1715,1714,1713,656,430,429,426,425,422,421,91]\n",
    "              | b <= 421  = cond b [1715,1714,1713,656,430,429,426,425,422,421]\n",
    "              | b <= 422  = cond b [1715,1714,1713,656,430,429,426,425,422]\n",
    "              | b <= 425  = cond b [1715,1714,1713,656,430,429,426,425]\n",
    "              | b <= 426  = cond b [1715,1714,1713,656,430,429,426]\n",
    "              | b <= 429  = cond b [1715,1714,1713,656,430,429]\n",
    "              | b <= 430  = cond b [1715,1714,1713,656,430]\n",
    "              | b <= 656  = cond b [1715,1714,1713,656]\n",
    "              | b <= 1713 = cond b [1715,1714,1713]\n",
    "              | b <= 1714 = cond b [1715,1714]\n",
    "              | b <= 1715 = cond b [1715]\n",
    "              | otherwise = True\n",
    "\n",
    "bitify [] = 0\n",
    "bitify (n:ns) = n + bitify (map (* 2) ns)\n",
    "\n",
    "listify 0 = [] \n",
    "listify n = mod n 2 :listify (div n 2)\n",
    "\n",
    "eval bit = f (listify bit) mapping\n",
    "  where\n",
    "    f [] m  = 1\n",
    "    f bs [] = 1\n",
    "    f (b:bs) (m:ms) | b == 1 = m * (f bs ms)\n",
    "                    | otherwise = f bs ms\n",
    "\n",
    "-- dot product for lists\n",
    "instance Num a => Num [a] where\n",
    "  (*) as [] = []\n",
    "  (*) [] as = []\n",
    "  (*) (a:as) (b:bs) = a*b : as * bs\n",
    "\n",
    "-- removes duplicates while sorting\n",
    "remSort :: Ord a => [a] -> [a]\n",
    "remSort [] = []\n",
    "remSort [a] = [a]\n",
    "remSort (a:as) = (remSort.smaller) (a:as) ++ [a] ++ (remSort.larger) (a:as)\n",
    "  where\n",
    "    smaller (x:xs) = filter (< x) xs\n",
    "    larger (x:xs) = filter (> x) xs"
   ]
  },
  {
   "cell_type": "code",
   "execution_count": null,
   "metadata": {
    "collapsed": true
   },
   "outputs": [],
   "source": []
  },
  {
   "cell_type": "code",
   "execution_count": null,
   "metadata": {
    "collapsed": true
   },
   "outputs": [],
   "source": []
  }
 ],
 "metadata": {
  "kernelspec": {
   "display_name": "Haskell",
   "language": "haskell",
   "name": "haskell"
  },
  "language_info": {
   "codemirror_mode": "ihaskell",
   "file_extension": ".hs",
   "name": "haskell",
   "version": "8.0.2"
  }
 },
 "nbformat": 4,
 "nbformat_minor": 2
}
