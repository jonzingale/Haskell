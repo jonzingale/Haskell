{
 "cells": [
  {
   "cell_type": "markdown",
   "metadata": {},
   "source": [
    "#### Riffle Shuffles:\n",
    "A riffle shuffle is executed as follows: a deck of cards is split into two equal halves,<br>\n",
    "with the top half taken in the left hand and the bottom half taken in the right hand.<br>\n",
    "Next, the cards are interleaved exactly, with the top card in the right half inserted just<br>\n",
    "after the top card in the left half, the 2nd card in the right half just after the 2nd card<br>\n",
    "in the left half, etc.<p>\n",
    "*Note that this process preserves the location of the top and bottom card of the deck<p>\n",
    "\n",
    "Let s(n) be the minimum number of consecutive riffle shuffles needed to restore a deck<br>\n",
    "of size n to its original configuration, where n is a positive even number.<p>\n",
    "\n",
    "Amazingly, a standard deck of 52 cards will first return to its original configuration<br>\n",
    "after only 8 perfect shuffles, so s(52)=8. It can be verified that a deck of 86 cards will<br>\n",
    "also return to its original configuration after exactly 8 shuffles, and the sum of all values<br>\n",
    "of n that satisfy s(n)=8 is 412.<p>\n",
    "\n",
    "Find the sum of all values of n that satisfy s(n)=60.\n",
    "\n"
   ]
  },
  {
   "cell_type": "markdown",
   "metadata": {},
   "source": [
    "#### Solution:\n",
    "\n",
    "First, I wrote out the rotations for a few of small deck sizes. Each time, I only followed<br>\n",
    "the second card in the deck. It became clear that after each shuffle the 2 card had displaced<br>\n",
    "by a power of 2 modulo the deck size. To get back to the original configuration would then<br>\n",
    "require $2^{deckSize} - 1$ shuffles. Next, I wrote a function to test this for decks which return<br>\n",
    "in 8 steps and not fewer. This required finding which factors of 8 were troublesome.<p>\n",
    "Of course, any deck size larger than 256 will not divide 256 and so is a fine stopping point.<p>"
   ]
  },
  {
   "cell_type": "code",
   "execution_count": 2,
   "metadata": {
    "collapsed": true
   },
   "outputs": [],
   "source": [
    "simpler = f 2 0\n",
    "  where\n",
    "    f 258 acum = acum\n",
    "    f n acum | dd n && cc n = f (n+2) (n+acum)\n",
    "             | otherwise = f (n+2) acum\n",
    "\n",
    "    cc n = mod 16 (n-1) /= 1\n",
    "    dd n = mod 256 (n-1) == 1"
   ]
  },
  {
   "cell_type": "markdown",
   "metadata": {},
   "source": [
    "Lo and behold, it landed the correct solution of 412.\n",
    "\n",
    "Unfortunately, when I extended this to the cycles of length 60 the time complexity blew up linearly and my algorithm would only finish in 3000 years. Over lunch it occurred to me to look at the prime factorization for $2^{60}-1$ and it's troublesome factors. When I did, It became obvious that the total space could be reduced to 13 binary dimensions and that all common factors could be found bitwise.<p>\n",
    "\n",
    "#### The insight:\n",
    "\n",
    "Rather than querying every number between `1` and `1152921504606846975`, I can<br>\n",
    "consider only those numbers which are factors of $2^{60}-1$. These factors can be<br>\n",
    "generated directly by considering linear combinations of the prime factorization<br>\n",
    "for $2^{60}-1$. Importing my favorite primes library, I proceed to get the following:<p>\n",
    "`[(3,2),(5,2),(7,1),(11,1),(13,1),(31,1),(41,1),(61,1),(151,1),(331,1),(1321,1)]`<p>\n",
    "\n",
    "Since almost every factor is unique, the list can nearly be interpreted as<br>\n",
    "a basis for a vector space of factors. The repeated 3's and 5's do provide<br>\n",
    "for a few hoops to jump through, but these problems are easily surmounted.<br>"
   ]
  },
  {
   "cell_type": "markdown",
   "metadata": {},
   "source": [
    "#Todo: Reason through the bitwise operations#\n"
   ]
  },
  {
   "cell_type": "code",
   "execution_count": 10,
   "metadata": {
    "collapsed": true
   },
   "outputs": [],
   "source": [
    "import Data.Bits\n",
    "\n",
    "euler622 = sum.remSort $ map ((+ 1).eval) goodBits\n",
    "\n",
    "mapping = [3,3,5,5,7,11,13,31,41,151,331,1321,61]\n",
    "\n",
    "goodBits :: [Integer]\n",
    "goodBits = [n | n<-[1..2^13-1], bitCond n]\n",
    "  where\n",
    "    cond b = all (\\c -> b .&. c /= b) \n",
    "    bitCond b | b <= 85   = cond b [1715,1714,1713,656,430,429,426,425,422,421,91,90,89,87,86,85]\n",
    "              | b <= 86   = cond b [1715,1714,1713,656,430,429,426,425,422,421,91,90,89,87,86]\n",
    "              | b <= 87   = cond b [1715,1714,1713,656,430,429,426,425,422,421,91,90,89,87]\n",
    "              | b <= 89   = cond b [1715,1714,1713,656,430,429,426,425,422,421,91,90,89]\n",
    "              | b <= 90   = cond b [1715,1714,1713,656,430,429,426,425,422,421,91,90]\n",
    "              | b <= 91   = cond b [1715,1714,1713,656,430,429,426,425,422,421,91]\n",
    "              | b <= 421  = cond b [1715,1714,1713,656,430,429,426,425,422,421]\n",
    "              | b <= 422  = cond b [1715,1714,1713,656,430,429,426,425,422]\n",
    "              | b <= 425  = cond b [1715,1714,1713,656,430,429,426,425]\n",
    "              | b <= 426  = cond b [1715,1714,1713,656,430,429,426]\n",
    "              | b <= 429  = cond b [1715,1714,1713,656,430,429]\n",
    "              | b <= 430  = cond b [1715,1714,1713,656,430]\n",
    "              | b <= 656  = cond b [1715,1714,1713,656]\n",
    "              | b <= 1713 = cond b [1715,1714,1713]\n",
    "              | b <= 1714 = cond b [1715,1714]\n",
    "              | b <= 1715 = cond b [1715]\n",
    "              | otherwise = True\n",
    "\n",
    "bitify [] = 0\n",
    "bitify (n:ns) = n + bitify (map (* 2) ns)\n",
    "\n",
    "listify 0 = [] \n",
    "listify n = mod n 2 :listify (div n 2)\n",
    "\n",
    "eval bit = f (listify bit) mapping\n",
    "  where\n",
    "    f [] m  = 1\n",
    "    f bs [] = 1\n",
    "    f (b:bs) (m:ms) | b == 1 = m * (f bs ms)\n",
    "                    | otherwise = f bs ms\n",
    "\n",
    "-- dot product for lists\n",
    "instance Num a => Num [a] where\n",
    "  (*) as [] = []\n",
    "  (*) [] as = []\n",
    "  (*) (a:as) (b:bs) = a*b : as * bs\n",
    "\n",
    "-- removes duplicates while sorting\n",
    "remSort :: Ord a => [a] -> [a]\n",
    "remSort [] = []\n",
    "remSort [a] = [a]\n",
    "remSort (a:as) = (remSort.smaller) (a:as) ++ [a] ++ (remSort.larger) (a:as)\n",
    "  where\n",
    "    smaller (x:xs) = filter (< x) xs\n",
    "    larger (x:xs) = filter (> x) xs"
   ]
  },
  {
   "cell_type": "code",
   "execution_count": 11,
   "metadata": {},
   "outputs": [
    {
     "data": {
      "text/html": [
       "<style>/* Styles used for the Hoogle display in the pager */\n",
       ".hoogle-doc {\n",
       "display: block;\n",
       "padding-bottom: 1.3em;\n",
       "padding-left: 0.4em;\n",
       "}\n",
       ".hoogle-code {\n",
       "display: block;\n",
       "font-family: monospace;\n",
       "white-space: pre;\n",
       "}\n",
       ".hoogle-text {\n",
       "display: block;\n",
       "}\n",
       ".hoogle-name {\n",
       "color: green;\n",
       "font-weight: bold;\n",
       "}\n",
       ".hoogle-head {\n",
       "font-weight: bold;\n",
       "}\n",
       ".hoogle-sub {\n",
       "display: block;\n",
       "margin-left: 0.4em;\n",
       "}\n",
       ".hoogle-package {\n",
       "font-weight: bold;\n",
       "font-style: italic;\n",
       "}\n",
       ".hoogle-module {\n",
       "font-weight: bold;\n",
       "}\n",
       ".hoogle-class {\n",
       "font-weight: bold;\n",
       "}\n",
       ".get-type {\n",
       "color: green;\n",
       "font-weight: bold;\n",
       "font-family: monospace;\n",
       "display: block;\n",
       "white-space: pre-wrap;\n",
       "}\n",
       ".show-type {\n",
       "color: green;\n",
       "font-weight: bold;\n",
       "font-family: monospace;\n",
       "margin-left: 1em;\n",
       "}\n",
       ".mono {\n",
       "font-family: monospace;\n",
       "display: block;\n",
       "}\n",
       ".err-msg {\n",
       "color: red;\n",
       "font-style: italic;\n",
       "font-family: monospace;\n",
       "white-space: pre;\n",
       "display: block;\n",
       "}\n",
       "#unshowable {\n",
       "color: red;\n",
       "font-weight: bold;\n",
       "}\n",
       ".err-msg.in.collapse {\n",
       "padding-top: 0.7em;\n",
       "}\n",
       ".highlight-code {\n",
       "white-space: pre;\n",
       "font-family: monospace;\n",
       "}\n",
       ".suggestion-warning { \n",
       "font-weight: bold;\n",
       "color: rgb(200, 130, 0);\n",
       "}\n",
       ".suggestion-error { \n",
       "font-weight: bold;\n",
       "color: red;\n",
       "}\n",
       ".suggestion-name {\n",
       "font-weight: bold;\n",
       "}\n",
       "</style><span class='err-msg'>&lt;interactive&gt;:1:1: error:<br/>    • Variable not in scope: main<br/>    • Perhaps you meant ‘min’ (imported from Prelude)</span>"
      ],
      "text/plain": [
       "<interactive>:1:1: error:\n",
       "    • Variable not in scope: main\n",
       "    • Perhaps you meant ‘min’ (imported from Prelude)"
      ]
     },
     "metadata": {},
     "output_type": "display_data"
    }
   ],
   "source": []
  },
  {
   "cell_type": "code",
   "execution_count": 12,
   "metadata": {},
   "outputs": [
    {
     "data": {
      "text/plain": [
       "3010983666182123972"
      ]
     },
     "metadata": {},
     "output_type": "display_data"
    }
   ],
   "source": [
    "euler622\n"
   ]
  },
  {
   "cell_type": "code",
   "execution_count": null,
   "metadata": {
    "collapsed": true
   },
   "outputs": [],
   "source": []
  }
 ],
 "metadata": {
  "kernelspec": {
   "display_name": "Haskell",
   "language": "haskell",
   "name": "haskell"
  },
  "language_info": {
   "codemirror_mode": "ihaskell",
   "file_extension": ".hs",
   "name": "haskell",
   "version": "8.0.2"
  }
 },
 "nbformat": 4,
 "nbformat_minor": 2
}
