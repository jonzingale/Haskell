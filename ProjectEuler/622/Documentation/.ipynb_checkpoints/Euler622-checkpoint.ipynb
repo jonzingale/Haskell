{
 "cells": [
  {
   "cell_type": "markdown",
   "metadata": {},
   "source": [
    "## Riffle Shuffles:\n",
    "A riffle shuffle is executed as follows: a deck of cards is split into two equal halves,<br>\n",
    "with the top half taken in the left hand and the bottom half taken in the right hand.<br>\n",
    "Next, the cards are interleaved exactly, with the top card in the right half inserted just<br>\n",
    "after the top card in the left half, the 2nd card in the right half just after the 2nd card<br>\n",
    "in the left half, etc.<p>\n",
    "*Note that this process preserves the location of the top and bottom card of the deck<p>\n",
    "\n",
    "Let s(n) be the minimum number of consecutive riffle shuffles needed to restore a deck<br>\n",
    "of size n to its original configuration, where n is a positive even number.<p>\n",
    "\n",
    "Amazingly, a standard deck of 52 cards will first return to its original configuration<br>\n",
    "after only 8 perfect shuffles, so s(52)=8. It can be verified that a deck of 86 cards will<br>\n",
    "also return to its original configuration after exactly 8 shuffles, and the sum of all values<br>\n",
    "of n that satisfy s(n)=8 is 412.<p>\n",
    "\n",
    "Find the sum of all values of n that satisfy s(n)=60."
   ]
  },
  {
   "cell_type": "markdown",
   "metadata": {},
   "source": [
    "### Solution:\n",
    "\n",
    "#### A First Approach\n",
    "First, I wrote out the rotations for a few of small deck sizes. Each time, I followed only<br>\n",
    "the second card in the deck. It became clear that after each shuffle the 2 card had displaced<br>\n",
    "by a powers of 2. Since the first card remains fixed under riffle shuffling, getting back to the<br>\n",
    "original configuration requires $2^{n} - 1$ shuffles. Next, I wrote a function to test this conjecture for<br>\n",
    "decks which return in exactly 8 steps. This first approach, while naive, turns out to be useful<br>\n",
    "when reasoning further about the algorithm."
   ]
  },
  {
   "cell_type": "code",
   "execution_count": 4,
   "metadata": {},
   "outputs": [
    {
     "data": {
      "text/plain": [
       "[18,52,86,256]"
      ]
     },
     "metadata": {},
     "output_type": "display_data"
    }
   ],
   "source": [
    "import Data.List\n",
    "\n",
    "inExactly8 = f 2\n",
    "  where\n",
    "    f n | n > 2^8 = []\n",
    "        | riffleId n == 8 = n : f (n+2)\n",
    "        | otherwise = f (n+2)\n",
    "\n",
    "riffleId n = f (riffleOnce [1..n]) [1..n] 1\n",
    "  where\n",
    "    half as = div (length as) 2\n",
    "    takeHalf as = [take (half as) as, drop (half as) as]\n",
    "    riffleOnce = concat . transpose . takeHalf\n",
    "    f j const k | j == const = k\n",
    "                | otherwise = f (riffleOnce j) const (k+1)\n",
    "\n",
    "inExactly8"
   ]
  },
  {
   "cell_type": "markdown",
   "metadata": {},
   "source": [
    "#### A More Refined Approach\n",
    "While the above method is percise, explicitly calculating all riffle shuffles like a champ,<br>\n",
    "this method does not scale very well and soon it becomes clear that to get a handle on<br>\n",
    "deck sizes on the order of $2^{60}$, another method will be necessary.<p>\n",
    "\n",
    "Noticing that every term in the list `inExactly8` is some $d+1$ where $d \\mid 2^8-1$,<br>\n",
    "another approach to the algorithm concerns itself with finding those divisors $d$ which<br>\n",
    "divide $2^8-1$ but do not divide $2^k-1$ with $k$ a proper divisor of $d$. For example:<p>\n",
    "\n",
    "$51 \\mid 2^8-1$<br>\n",
    "$51 \\nmid 2^4-1$<br>\n",
    "$51 \\nmid 2^2-1$<br>\n",
    "\n",
    "Further, any deck size larger than $2^n$ will not divide $2^n$ and so is a fine stopping point.<br>\n",
    "With these points in mind, I arrived at this more refined algorithm:"
   ]
  },
  {
   "cell_type": "code",
   "execution_count": 19,
   "metadata": {},
   "outputs": [
    {
     "data": {
      "text/plain": [
       "[18,52,86,256]"
      ]
     },
     "metadata": {},
     "output_type": "display_data"
    }
   ],
   "source": [
    "refined622 = f 0\n",
    "  where\n",
    "    f n | n > 256 = []\n",
    "        | dd n && cc n && bb n = n : f (n + 2)\n",
    "        | otherwise = f (n + 2)\n",
    "\n",
    "    bb n = mod 7 (n-1) /= 0\n",
    "    cc n = mod 15 (n-1) /= 0\n",
    "    dd n = mod 255 (n-1) == 0\n",
    "    \n",
    "refined622"
   ]
  },
  {
   "cell_type": "markdown",
   "metadata": {},
   "source": [
    "Lo and behold, `refined622` lands the correct list. Moving forward with this approach<br>\n",
    "in mind, I am ready to tackle the $60$ riffle shuffle case. $2^{60}-1$ is a rather large number,<br>\n",
    "$1152921504606846975$, with very many divisors, $4608$. Being lazy, I don't wish to hard<br>\n",
    "code these divisors and so, with the help of my favorite factorization library, I present a<br>\n",
    "further refinement to the algorithm:"
   ]
  },
  {
   "cell_type": "markdown",
   "metadata": {},
   "source": [
    "```\n",
    "import Math.NumberTheory.Primes\n",
    "\n",
    "main = do print.sum.anotherRefinement $ 60\n",
    "\n",
    "anotherRefinement :: Integer -> [Integer]\n",
    "anotherRefinement n = [ k + 1 | k <- listDivisors (2^n-1), divCond n k]\n",
    "  where\n",
    "    divCond n k = and [ mod (2^t-1) k /= 0 | t <- properDivisors n]\n",
    "\n",
    "```"
   ]
  },
  {
   "cell_type": "markdown",
   "metadata": {},
   "source": [
    "While the preceeding algorithm is spot on and not too slow, finishing<br>\n",
    "in `(0.18 secs, 110,599,112 bytes)`. There certainly is a lot of double<br>\n",
    "counting. This is a good place to find yet another refinement, perhaps<br>\n",
    "one less beholden to iterated factoring.<p>\n",
    "\n",
    "#### The insight: 13 binary dimensions and bit operators\n",
    "\n",
    "Rather than querying every number between `1` and `1152921504606846975`, I can<br>\n",
    "consider only those numbers which are factors of $2^{60}-1$. These factors can be<br>\n",
    "generated directly by considering linear combinations of the prime factorization.<p>\n",
    "\n",
    "`[(3,2),(5,2),(7,1),(11,1),(13,1),(31,1),(41,1),(61,1),(151,1),(331,1),(1321,1)]`<p>\n",
    "\n",
    "Since almost every factor is unique, the list can nearly be interpreted as<br>\n",
    "a basis for a vector space of factors. The repeated 3's and 5's do provide<br>\n",
    "for a few hoops to jump through, but these problems are easily surmounted.<br>"
   ]
  },
  {
   "cell_type": "markdown",
   "metadata": {},
   "source": [
    "#Todo: Reason through the bitwise operations#\n"
   ]
  },
  {
   "cell_type": "code",
   "execution_count": 10,
   "metadata": {
    "collapsed": true
   },
   "outputs": [],
   "source": [
    "import Data.Bits\n",
    "\n",
    "euler622 = sum.remSort $ map ((+ 1).eval) goodBits\n",
    "\n",
    "mapping = [3,3,5,5,7,11,13,31,41,151,331,1321,61]\n",
    "\n",
    "goodBits :: [Integer]\n",
    "goodBits = [n | n<-[1..2^13-1], bitCond n]\n",
    "  where\n",
    "    cond b = all (\\c -> b .&. c /= b) \n",
    "    bitCond b | b <= 85   = cond b [1715,1714,1713,656,430,429,426,425,422,421,91,90,89,87,86,85]\n",
    "              | b <= 86   = cond b [1715,1714,1713,656,430,429,426,425,422,421,91,90,89,87,86]\n",
    "              | b <= 87   = cond b [1715,1714,1713,656,430,429,426,425,422,421,91,90,89,87]\n",
    "              | b <= 89   = cond b [1715,1714,1713,656,430,429,426,425,422,421,91,90,89]\n",
    "              | b <= 90   = cond b [1715,1714,1713,656,430,429,426,425,422,421,91,90]\n",
    "              | b <= 91   = cond b [1715,1714,1713,656,430,429,426,425,422,421,91]\n",
    "              | b <= 421  = cond b [1715,1714,1713,656,430,429,426,425,422,421]\n",
    "              | b <= 422  = cond b [1715,1714,1713,656,430,429,426,425,422]\n",
    "              | b <= 425  = cond b [1715,1714,1713,656,430,429,426,425]\n",
    "              | b <= 426  = cond b [1715,1714,1713,656,430,429,426]\n",
    "              | b <= 429  = cond b [1715,1714,1713,656,430,429]\n",
    "              | b <= 430  = cond b [1715,1714,1713,656,430]\n",
    "              | b <= 656  = cond b [1715,1714,1713,656]\n",
    "              | b <= 1713 = cond b [1715,1714,1713]\n",
    "              | b <= 1714 = cond b [1715,1714]\n",
    "              | b <= 1715 = cond b [1715]\n",
    "              | otherwise = True\n",
    "\n",
    "bitify [] = 0\n",
    "bitify (n:ns) = n + bitify (map (* 2) ns)\n",
    "\n",
    "listify 0 = [] \n",
    "listify n = mod n 2 :listify (div n 2)\n",
    "\n",
    "eval bit = f (listify bit) mapping\n",
    "  where\n",
    "    f [] m  = 1\n",
    "    f bs [] = 1\n",
    "    f (b:bs) (m:ms) | b == 1 = m * (f bs ms)\n",
    "                    | otherwise = f bs ms\n",
    "\n",
    "-- dot product for lists\n",
    "instance Num a => Num [a] where\n",
    "  (*) as [] = []\n",
    "  (*) [] as = []\n",
    "  (*) (a:as) (b:bs) = a*b : as * bs\n",
    "\n",
    "-- removes duplicates while sorting\n",
    "remSort :: Ord a => [a] -> [a]\n",
    "remSort [] = []\n",
    "remSort [a] = [a]\n",
    "remSort (a:as) = (remSort.smaller) (a:as) ++ [a] ++ (remSort.larger) (a:as)\n",
    "  where\n",
    "    smaller (x:xs) = filter (< x) xs\n",
    "    larger (x:xs) = filter (> x) xs"
   ]
  },
  {
   "cell_type": "code",
   "execution_count": null,
   "metadata": {},
   "outputs": [],
   "source": [
    "\n"
   ]
  },
  {
   "cell_type": "code",
   "execution_count": null,
   "metadata": {},
   "outputs": [],
   "source": []
  },
  {
   "cell_type": "code",
   "execution_count": null,
   "metadata": {
    "collapsed": true
   },
   "outputs": [],
   "source": []
  }
 ],
 "metadata": {
  "kernelspec": {
   "display_name": "Haskell",
   "language": "haskell",
   "name": "haskell"
  },
  "language_info": {
   "codemirror_mode": "ihaskell",
   "file_extension": ".hs",
   "name": "haskell",
   "version": "8.0.2"
  }
 },
 "nbformat": 4,
 "nbformat_minor": 2
}
