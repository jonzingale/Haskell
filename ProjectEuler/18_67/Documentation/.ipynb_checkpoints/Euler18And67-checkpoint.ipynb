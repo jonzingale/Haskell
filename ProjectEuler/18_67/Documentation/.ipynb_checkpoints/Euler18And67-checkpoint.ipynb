{
 "cells": [
  {
   "cell_type": "markdown",
   "metadata": {},
   "source": [
    "#### Euler 18 and 67: A dynamical programming exercise.\n",
    "\n",
    "By starting at the top of the triangle below and moving to adjacent numbers<br>\n",
    "on the row below, the maximum total from top to bottom is 23.<p>\n",
    "\n",
    "* 3\n",
    "* 7 4\n",
    "* 2 4 6\n",
    "* 8 5 9 3\n",
    "<p>\n",
    "\n",
    "That is, 3 + 7 + 4 + 9 = 23."
   ]
  },
  {
   "cell_type": "markdown",
   "metadata": {},
   "source": [
    "Max-cost and bottom up.<br>\n",
    "Seen as a tree and starting at the leaves, it is clear that any cost<br>\n",
    "which is maximum for a given path back to the root converges with every<br>\n",
    "other. The bottom-up technique then requires less calculations than the<br>\n",
    "top-down approach with it's iterated forking.<p>\n",
    "Below, I import some libraries and write some methods for working with csvs.<br>\n",
    "The decode option sets spaces as the delimiter.<br>"
   ]
  },
  {
   "cell_type": "code",
   "execution_count": 24,
   "metadata": {},
   "outputs": [],
   "source": [
    "import qualified Data.ByteString.Lazy as BL\n",
    "import Data.Vector (Vector, empty, toList)\n",
    "import Data.Either.Extra (fromRight)\n",
    "import Data.Csv\n",
    "\n",
    "type EitherInt = Either String (Vector [Int])\n",
    "\n",
    "csvParser file =\n",
    "  let options = defaultDecodeOptions { decDelimiter = 32 } in\n",
    "  let parsedCsv = decodeWith options NoHeader file :: EitherInt in\n",
    "  toList.fromRight empty $ parsedCsv"
   ]
  },
  {
   "cell_type": "markdown",
   "metadata": {},
   "source": [
    "Next, I extend lists to the `Num` class to make the row sums<br>\n",
    "easier to calculate. Then `euler67` is defined to recursively<br>\n",
    "sum the rows from the leaves to the root. Lastly, main is <br>\n",
    "defined to parse the file and perform the summation."
   ]
  },
  {
   "cell_type": "code",
   "execution_count": 25,
   "metadata": {},
   "outputs": [],
   "source": [
    "main = do\n",
    "  csv <- BL.readFile \"triangle.csv\"\n",
    "  let maxedTree = euler67.reverse.csvParser $ csv\n",
    "  print maxedTree\n",
    "\n",
    "euler67 [as] = head as\n",
    "euler67 (as:bs:css) =\n",
    "  let ff = as + bs in\n",
    "  let gg = tail $ as + (0:bs) in\n",
    "  euler67 ([max c1 c2 | (c1, c2)<- zip ff gg]:css)\n",
    "\n",
    "instance Num a => Num [a] where\n",
    "  fromInteger n = [fromInteger n]\n",
    "  (x:xs) + (y:ys) = (x + y) : (xs + ys)\n",
    "  xs + [] = 0\n",
    "  [] + ys = 0"
   ]
  },
  {
   "cell_type": "code",
   "execution_count": 26,
   "metadata": {},
   "outputs": [
    {
     "data": {
      "text/plain": [
       "7273"
      ]
     },
     "metadata": {},
     "output_type": "display_data"
    }
   ],
   "source": [
    "main"
   ]
  },
  {
   "cell_type": "markdown",
   "metadata": {},
   "source": [
    "Hooray for an efficient algorithm."
   ]
  }
 ],
 "metadata": {
  "kernelspec": {
   "display_name": "Haskell",
   "language": "haskell",
   "name": "haskell"
  },
  "language_info": {
   "codemirror_mode": "ihaskell",
   "file_extension": ".hs",
   "name": "haskell",
   "version": "8.0.2"
  }
 },
 "nbformat": 4,
 "nbformat_minor": 2
}
