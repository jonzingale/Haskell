{
 "cells": [
  {
   "cell_type": "markdown",
   "metadata": {},
   "source": [
    "### Non-abundant sums\n",
    "\n",
    "A perfect number is a number for which the sum of its proper divisors is\n",
    "exactly equal to the number. For example, the sum of the proper divisors\n",
    "of 28 would be 1 + 2 + 4 + 7 + 14 = 28, which means that 28 is a perfect number.\n",
    "\n",
    "A number n is called deficient if the sum of its proper divisors is less than n\n",
    "and it is called abundant if this sum exceeds n.\n",
    "\n",
    "As 12 is the smallest abundant number, 1 + 2 + 3 + 4 + 6 = 16,\n",
    "the smallest number that can be written as the sum of two abundant\n",
    "numbers is 24. By mathematical analysis, it can be shown that all integers\n",
    "greater than 28123 can be written as the sum of two abundant numbers.\n",
    "\n",
    "However, this upper limit cannot be reduced any further by analysis even\n",
    "though it is known that the greatest number that cannot be expressed as the\n",
    "sum of two abundant numbers is less than this limit.\n",
    "\n",
    "Find the sum of all the positive integers which cannot be written\n",
    "as the sum of two abundant numbers."
   ]
  },
  {
   "cell_type": "code",
   "execution_count": 3,
   "metadata": {
    "collapsed": true
   },
   "outputs": [],
   "source": [
    "import Data.Set (Set, (\\\\), singleton, empty, unions)\n",
    "\n",
    "listToSet :: Ord a => [a] -> Set a\n",
    "listToSet list = unions $ map singleton list"
   ]
  },
  {
   "cell_type": "markdown",
   "metadata": {},
   "source": [
    "The strategy for this problem is to utilize laziness and the `Data.Set` library.<br>\n",
    "The initial hint is to notice that for all n > 28123, ∃ j, k ∈ AbundantNumbers such that j+k = n.<p>\n",
    "The plan is as follows:\n",
    "- Find all n < 28124 which are the sum to two abundant numbers.\n",
    "- Remove these numbers from the list of numbers `1..28123`.\n",
    "- Take the sum of this difference."
   ]
  },
  {
   "cell_type": "code",
   "execution_count": 4,
   "metadata": {
    "collapsed": true
   },
   "outputs": [],
   "source": [
    "sigmaDivisors :: Integer -> Integer\n",
    "sigmaDivisors n = 1 + sum [sig i n | i <- [2..root n], mod n i == 0]\n",
    "  where\n",
    "    root = floor.sqrt.fromInteger\n",
    "    sig i n | i^2 == n = i\n",
    "            | otherwise = i + div n i  \n",
    "\n",
    "abundant :: Integer -> Bool\n",
    "abundant n = n < sigmaDivisors n"
   ]
  },
  {
   "cell_type": "markdown",
   "metadata": {},
   "source": [
    "`sigmaDivisors` finds the sum of the proper divisors for a given n.<br>\n",
    "That we need only calculate up to the square root of n speeds up the<br>\n",
    "calculation at the expense of needing to be careful at the square root.<br>\n",
    "Now, `abundant :: Integer -> Bool` can be written to distinguish those<br>\n",
    "which are from those that are not abundant."
   ]
  },
  {
   "cell_type": "code",
   "execution_count": 5,
   "metadata": {
    "collapsed": true
   },
   "outputs": [],
   "source": [
    "sumAbundantPairs :: Integer -> [Integer] -- sumAbundantPairs 10 => [4+4]\n",
    "sumAbundantPairs n = [x+y | x <- abundants, y <- abundants]\n",
    "  where abundants = filter abundant [1..n]\n",
    "  \n",
    "challenge23 =  sum.diff [1..28123] $ sumAbundantPairs 28123\n",
    "  where\n",
    "    diff = \\ x y -> listToSet x \\\\ listToSet y"
   ]
  },
  {
   "cell_type": "markdown",
   "metadata": {},
   "source": [
    "`sumAbundantPairs` now takes the cartesian product of the abundant numbers<br>\n",
    "up to 28123 with itself and returns the sum of the pairs."
   ]
  }
 ],
 "metadata": {
  "kernelspec": {
   "display_name": "Haskell",
   "language": "haskell",
   "name": "haskell"
  },
  "language_info": {
   "codemirror_mode": "ihaskell",
   "file_extension": ".hs",
   "name": "haskell",
   "version": "8.0.2"
  }
 },
 "nbformat": 4,
 "nbformat_minor": 2
}
