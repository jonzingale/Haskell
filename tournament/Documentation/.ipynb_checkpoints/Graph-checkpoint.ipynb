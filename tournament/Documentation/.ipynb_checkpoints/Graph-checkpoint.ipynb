{
 "cells": [
  {
   "cell_type": "markdown",
   "metadata": {},
   "source": [
    "### Graph: a library for Havel Hakimi Tournaments\n",
    "\n",
    "The `Graph` module offers data structures and methods for working with<br>\n",
    "direct graphs in Haskell. The library is then extended to working examples<br>\n",
    "of the Havel-Hakimi algorithm."
   ]
  },
  {
   "cell_type": "code",
   "execution_count": 14,
   "metadata": {},
   "outputs": [
    {
     "data": {
      "text/html": [
       "<style>/* Styles used for the Hoogle display in the pager */\n",
       ".hoogle-doc {\n",
       "display: block;\n",
       "padding-bottom: 1.3em;\n",
       "padding-left: 0.4em;\n",
       "}\n",
       ".hoogle-code {\n",
       "display: block;\n",
       "font-family: monospace;\n",
       "white-space: pre;\n",
       "}\n",
       ".hoogle-text {\n",
       "display: block;\n",
       "}\n",
       ".hoogle-name {\n",
       "color: green;\n",
       "font-weight: bold;\n",
       "}\n",
       ".hoogle-head {\n",
       "font-weight: bold;\n",
       "}\n",
       ".hoogle-sub {\n",
       "display: block;\n",
       "margin-left: 0.4em;\n",
       "}\n",
       ".hoogle-package {\n",
       "font-weight: bold;\n",
       "font-style: italic;\n",
       "}\n",
       ".hoogle-module {\n",
       "font-weight: bold;\n",
       "}\n",
       ".hoogle-class {\n",
       "font-weight: bold;\n",
       "}\n",
       ".get-type {\n",
       "color: green;\n",
       "font-weight: bold;\n",
       "font-family: monospace;\n",
       "display: block;\n",
       "white-space: pre-wrap;\n",
       "}\n",
       ".show-type {\n",
       "color: green;\n",
       "font-weight: bold;\n",
       "font-family: monospace;\n",
       "margin-left: 1em;\n",
       "}\n",
       ".mono {\n",
       "font-family: monospace;\n",
       "display: block;\n",
       "}\n",
       ".err-msg {\n",
       "color: red;\n",
       "font-style: italic;\n",
       "font-family: monospace;\n",
       "white-space: pre;\n",
       "display: block;\n",
       "}\n",
       "#unshowable {\n",
       "color: red;\n",
       "font-weight: bold;\n",
       "}\n",
       ".err-msg.in.collapse {\n",
       "padding-top: 0.7em;\n",
       "}\n",
       ".highlight-code {\n",
       "white-space: pre;\n",
       "font-family: monospace;\n",
       "}\n",
       ".suggestion-warning { \n",
       "font-weight: bold;\n",
       "color: rgb(200, 130, 0);\n",
       "}\n",
       ".suggestion-error { \n",
       "font-weight: bold;\n",
       "color: red;\n",
       "}\n",
       ".suggestion-name {\n",
       "font-weight: bold;\n",
       "}\n",
       "</style><span class='err-msg'>hiding.hs: openFile: does not exist (No such file or directory)</span>"
      ],
      "text/plain": [
       "hiding.hs: openFile: does not exist (No such file or directory)"
      ]
     },
     "metadata": {},
     "output_type": "display_data"
    }
   ],
   "source": [
    ":l ./../Helpers -- mostly for hhsort\n",
    "\n",
    "data Vertex = V { name::String, degree::Int} deriving Eq\n",
    "data Edge = E { source::Vertex, target::Vertex } deriving Eq\n",
    "data Graph = G { edges::[Edge] } | BadGraph deriving (Eq, Show)\n",
    "type Degrees = [Int]\n",
    "\n",
    "vertices :: Graph -> [Vertex]\n",
    "vertices (G es) = let totalV = [target, source] <*> es in f totalV []\n",
    "  where\n",
    "    f [] accum = accum\n",
    "    f ((V n d):vs) accum | any (\\v -> name v == n) accum = f vs accum\n",
    "                         | otherwise = f vs ((V n d):accum)\n",
    "\n",
    "degreesToVerts :: Degrees -> [Vertex]\n",
    "degreesToVerts ds =  [V (show ss) d | (ss, d) <- zip [1..] ds]\n",
    "\n",
    "instance Show Vertex where\n",
    "  show (V a b) = a\n",
    "instance Show Edge where\n",
    "  show (E a b) = show a ++ \"->\" ++ show b\n",
    "\n",
    "instance Ord Vertex where\n",
    "  (<=) (V ss n) (V tt m) = n <= m\n",
    "  (>=) (V ss n) (V tt m) = n >= m"
   ]
  },
  {
   "cell_type": "markdown",
   "metadata": {},
   "source": [
    "The above data types `Vertex`, `Edge` and `Graph` are the heart of Graph module.<br>\n",
    "Each comes with some default methods for accessing sub-types. Being defined explicitly,<br>\n",
    "`vertices :: Graph -> [Vertex]` and `degreesToVerts :: Degrees -> [Vertex]`<br>\n",
    "appear to be the odd methods out. `vertices` returns the vertices for a graph,<br>\n",
    "while `degreesToVerts` allows us to build a vertex set with expectations for the degree<br>\n",
    "of each vertex. Next, Some instances of `Show` are a included to keep things pretty.<br>\n",
    "Lastly, `Ord` is extended to Vertex so that we can sort on them.<p>\n",
    "\n",
    "Now the work horse functions:"
   ]
  },
  {
   "cell_type": "code",
   "execution_count": 12,
   "metadata": {},
   "outputs": [],
   "source": [
    "havelhakimi :: [Int] -> Bool\n",
    "havelhakimi (a:[]) = a == 0\n",
    "havelhakimi (a:as) = havelhakimi.hhsort $\n",
    "  map (subtract 1) (take a as) ++ drop a as\n",
    "\n",
    "vertsToGraph :: [Vertex] -> Graph\n",
    "vertsToGraph verts = rebuildDegs.G $ hh verts []\n",
    "  where\n",
    "    havel ((V ss n):as) = hhsort $ snd_map (+ (-1)) (take n as) ++ drop n as\n",
    "    toEdges ((V ss n):as) = [E (V ss n) vert | vert <- take n as]\n",
    "    snd_map f xs = [V a (f b) | (V a b) <- xs]\n",
    "\n",
    "    hh [] edgeAccum = edgeAccum\n",
    "    hh verts edgeAccum =\n",
    "      let sorted = hhsort verts in\n",
    "      hh (havel sorted) (edgeAccum ++ toEdges sorted)\n",
    "\n",
    "rebuildDegs :: Graph -> Graph\n",
    "rebuildDegs (G es) = G $ map (buildE es) es\n",
    "  where\n",
    "    buildV (V n d) tars = V n $ (length.filter (== n)) tars\n",
    "    buildE es (E v1 v2) =\n",
    "      let totalV = [name.target, name.source] <*> es in\n",
    "      E (buildV v1 totalV) (buildV v2 totalV)\n",
    "\n",
    "degreesToGraph :: Degrees -> Graph\n",
    "degreesToGraph degs | havelhakimi degs = vertsToGraph.degreesToVerts $ degs\n",
    "                    | otherwise = BadGraph"
   ]
  },
  {
   "cell_type": "markdown",
   "metadata": {},
   "source": [
    "`vertsToGraph` relies on some not so obvious methods, `hhsort` and `rebuildDegs`.<br>\n",
    "The first is a specialized `quicksort` which orders vertices from largest degree<br>\n",
    "to smallest. The algorithm deincrements on the degrees given for the vertices, and so<br>\n",
    "`rebuildDeg` is needed to rebuild the degrees of each vertex.<br>\n",
    "The method `degreesToGraph` checks that a given set of degrees is graphic in the sense of<br>\n",
    "Erdős–Gallai, via the Havel-Hakimi algorithm. `BadGraph` is returned if the given set<br>\n",
    "of degrees is not graphic, and returns a realization if the set of degrees is graphic.<br>\n",
    "For example a list of `n+1` n's ought to represent an `n-simplex` in our scheme."
   ]
  },
  {
   "cell_type": "code",
   "execution_count": 11,
   "metadata": {},
   "outputs": [
    {
     "data": {
      "text/plain": [
       "G {edges = [1->2,1->3,1->4,1->5,2->3,2->4,2->5,3->4,3->5,4->5]}"
      ]
     },
     "metadata": {},
     "output_type": "display_data"
    }
   ],
   "source": [
    "simplex n = degreesToGraph.take (n+1) $ repeat n\n",
    "simplex 4"
   ]
  },
  {
   "cell_type": "markdown",
   "metadata": {},
   "source": [
    "We then see that a `4-simplex` is in fact graphic."
   ]
  }
 ],
 "metadata": {
  "kernelspec": {
   "display_name": "Haskell",
   "language": "haskell",
   "name": "haskell"
  },
  "language_info": {
   "codemirror_mode": "ihaskell",
   "file_extension": ".hs",
   "name": "haskell",
   "version": "8.0.2"
  }
 },
 "nbformat": 4,
 "nbformat_minor": 2
}
