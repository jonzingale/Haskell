{
 "cells": [
  {
   "cell_type": "markdown",
   "metadata": {},
   "source": [
    "### Graph: a library for Havel Hakimi Tournaments\n",
    "\n",
    "The `Graph` module offers data structures and methods for working with<br>\n",
    "direct graphs in Haskell. The library is then extended to working examples<br>\n",
    "of the Havel-Hakimi algorithm."
   ]
  },
  {
   "cell_type": "code",
   "execution_count": 8,
   "metadata": {},
   "outputs": [],
   "source": [
    ":l ./../Helpers -- mostly for qsort\n",
    "\n",
    "data Vertex = V { name::String, degree::Int} deriving Eq\n",
    "data Edge = E { source::Vertex, target::Vertex }\n",
    "data Graph = G { edges::[Edge] } deriving Show\n",
    "type Degrees = [Int]\n",
    "\n",
    "vertices :: Graph -> [Vertex]\n",
    "vertices = (map source).edges\n",
    "\n",
    "degreesToVerts :: Degrees -> [Vertex]\n",
    "degreesToVerts ds =  [V (show ss) d | (ss, d) <- zip [1..] ds]\n",
    "\n",
    "instance Show Vertex where\n",
    "  show (V a b) = a\n",
    "instance Show Edge where\n",
    "  show (E a b) = show a ++ \"->\" ++ show b\n",
    "\n",
    "instance Ord Vertex where\n",
    "  (<=) (V ss n) (V tt m) = n <= m\n",
    "  (>=) (V ss n) (V tt m) = n >= m"
   ]
  },
  {
   "cell_type": "markdown",
   "metadata": {},
   "source": [
    "The above data types `Vertex`, `Edge` and `Graph` are the heart of Graph module.<br>\n",
    "Each comes with some default methods for accessing sub-types. Being defined explicitly,<br>\n",
    "`vertices :: Graph -> [Vertex]` and `degreesToVerts :: Degrees -> [Vertex]`<br>\n",
    "appear to be the odd methods out. `vertices` returns the vertices for a graph,<br>\n",
    "while `degreesToVerts` allows us to build a vertex set with expectations for the degree<br>\n",
    "of each vertex. Next, Some instances of `Show` are a included to keep things pretty.<br>\n",
    "Lastly, `Ord` is extended to Vertex so that we can sort on them.<p>\n",
    "\n",
    "Now the work horse functions:"
   ]
  },
  {
   "cell_type": "code",
   "execution_count": 12,
   "metadata": {
    "collapsed": true
   },
   "outputs": [],
   "source": [
    "vertsToGraph :: [Vertex] -> Graph\n",
    "vertsToGraph verts = G $ hh [] verts\n",
    "  where\n",
    "    havel ((V ss n):as) = qsort $ snd_map (+ (-1)) (take n as) ++ drop n as\n",
    "    toEdges ((V ss n):as) = [E (V ss n) vert | vert <- take n as]\n",
    "    snd_map f xs =  [V a (f b)  | (V a b) <- xs]\n",
    "    hh edgeAccum [] = edgeAccum\n",
    "    hh edgeAccum verts =\n",
    "      let sorted = qsort verts in\n",
    "      hh (edgeAccum ++ toEdges sorted) (havel sorted)\n",
    "\n",
    "degreesToGraph :: Degrees -> Graph\n",
    "degreesToGraph = vertsToGraph.degreesToVerts"
   ]
  },
  {
   "cell_type": "markdown",
   "metadata": {},
   "source": [
    "Now, given a list of expected degrees we can determine whether or not the list<br>\n",
    "is Graphic in the sense of Erdős–Gallai. If it is then we produce such a graph<br>\n",
    "via the Havel-Hakimi algorithm. For example a list of `n+1` n's ought to represent<br>\n",
    "an `n-simplex` in our scheme."
   ]
  },
  {
   "cell_type": "code",
   "execution_count": 14,
   "metadata": {},
   "outputs": [
    {
     "data": {
      "text/plain": [
       "G {edges = [5->4,5->3,5->2,5->1,4->3,4->2,4->1,3->2,3->1,2->1]}"
      ]
     },
     "metadata": {},
     "output_type": "display_data"
    }
   ],
   "source": [
    "simplex n = degreesToGraph.take (n+1) $ repeat n\n",
    "simplex 4"
   ]
  },
  {
   "cell_type": "markdown",
   "metadata": {},
   "source": [
    "We then see that a `4-simplex` is in fact graphic."
   ]
  }
 ],
 "metadata": {
  "kernelspec": {
   "display_name": "Haskell",
   "language": "haskell",
   "name": "haskell"
  },
  "language_info": {
   "codemirror_mode": "ihaskell",
   "file_extension": ".hs",
   "name": "haskell",
   "version": "8.0.2"
  }
 },
 "nbformat": 4,
 "nbformat_minor": 2
}
