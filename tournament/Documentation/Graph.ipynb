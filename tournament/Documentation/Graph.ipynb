{
 "cells": [
  {
   "cell_type": "markdown",
   "metadata": {},
   "source": [
    "### Graph: a library for Havel Hakimi Tournaments\n",
    "\n",
    "The `Graph` module offers data structures and methods for working with<br>\n",
    "direct graphs in Haskell. The library is then extended to working examples<br>\n",
    "of the Havel-Hakimi algorithm."
   ]
  },
  {
   "cell_type": "code",
   "execution_count": 15,
   "metadata": {},
   "outputs": [],
   "source": [
    ":l ./../Helpers -- mostly for hhsort\n",
    "\n",
    "data Vertex = V { name::String, degree::Int} deriving Eq\n",
    "data Edge = E { source::Vertex, target::Vertex } deriving Eq\n",
    "data Graph = G { edges::[Edge] } | BadGraph deriving (Eq, Show)\n",
    "type Degrees = [Int]\n",
    "\n",
    "vertices :: Graph -> [Vertex]\n",
    "vertices (G es) = let totalV = [target, source] <*> es in f totalV []\n",
    "  where\n",
    "    f [] accum = accum\n",
    "    f ((V n d):vs) accum | any (\\v -> name v == n) accum = f vs accum\n",
    "                         | otherwise = f vs ((V n d):accum)\n",
    "\n",
    "degreesToVerts :: Degrees -> [Vertex]\n",
    "degreesToVerts ds =  [V (show ss) d | (ss, d) <- zip [1..] ds]\n",
    "\n",
    "instance Show Vertex where\n",
    "  show (V a b) = a\n",
    "instance Show Edge where\n",
    "  show (E a b) = show a ++ \"->\" ++ show b\n",
    "\n",
    "instance Ord Vertex where\n",
    "  (<=) (V ss n) (V tt m) = n <= m\n",
    "  (>=) (V ss n) (V tt m) = n >= m"
   ]
  },
  {
   "cell_type": "markdown",
   "metadata": {},
   "source": [
    "The above data types `Vertex`, `Edge` and `Graph` are the heart of Graph module.<br>\n",
    "Each comes with some default methods for accessing sub-types. Being defined explicitly,<br>\n",
    "`vertices :: Graph -> [Vertex]` and `degreesToVerts :: Degrees -> [Vertex]`<br>\n",
    "appear to be the odd methods out. `vertices` returns the vertices for a graph,<br>\n",
    "while `degreesToVerts` allows us to build a vertex set with expectations for the degree<br>\n",
    "of each vertex. Next, Some instances of `Show` are a included to keep things pretty.<br>\n",
    "Lastly, `Ord` is extended to Vertex so that we can sort on them.<p>\n",
    "\n",
    "Now the work horse functions:"
   ]
  },
  {
   "cell_type": "code",
   "execution_count": 16,
   "metadata": {},
   "outputs": [],
   "source": [
    "havelHakimi :: [Int] -> Bool\n",
    "havelHakimi (a:[]) = a == 0\n",
    "havelHakimi (a:as) = havelHakimi.hhsort $\n",
    "  map (subtract 1) (take a as) ++ drop a as\n",
    "\n",
    "vertsToGraph :: [Vertex] -> Graph\n",
    "vertsToGraph verts = rebuildDegs.G $ hh verts []\n",
    "  where\n",
    "    havel ((V ss n):as) = hhsort $ snd_map (+ (-1)) (take n as) ++ drop n as\n",
    "    toEdges ((V ss n):as) = [E (V ss n) vert | vert <- take n as]\n",
    "    snd_map f xs = [V a (f b) | (V a b) <- xs]\n",
    "\n",
    "    hh [] edgeAccum = edgeAccum\n",
    "    hh verts edgeAccum =\n",
    "      let sorted = hhsort verts in\n",
    "      hh (havel sorted) (edgeAccum ++ toEdges sorted)\n",
    "\n",
    "rebuildDegs :: Graph -> Graph\n",
    "rebuildDegs (G es) = G $ map (buildE es) es\n",
    "  where\n",
    "    buildV (V n d) tars = V n $ (length.filter (== n)) tars\n",
    "    buildE es (E v1 v2) =\n",
    "      let totalV = [name.target, name.source] <*> es in\n",
    "      E (buildV v1 totalV) (buildV v2 totalV)\n",
    "\n",
    "degreesToGraph :: Degrees -> Graph\n",
    "degreesToGraph degs | havelHakimi degs = vertsToGraph.degreesToVerts $ degs\n",
    "                    | otherwise = BadGraph"
   ]
  },
  {
   "cell_type": "markdown",
   "metadata": {},
   "source": [
    "`vertsToGraph` relies on some not so obvious methods, `hhsort` and `rebuildDegs`.<br>\n",
    "The first is a specialized `quicksort` which orders vertices from largest degree<br>\n",
    "to smallest. The algorithm deincrements on the degrees given for the vertices, and so<br>\n",
    "`rebuildDeg` is needed to rebuild the degrees of each vertex.<br>\n",
    "The method `degreesToGraph` checks that a given set of degrees is graphic in the sense of<br>\n",
    "Erdős–Gallai, via the Havel-Hakimi algorithm. `BadGraph` is returned if the given set<br>\n",
    "of degrees is not graphic, and returns a realization if the set of degrees is graphic.<br>\n",
    "For example a list of `n+1` n's ought to represent an `n-simplex` in our scheme."
   ]
  },
  {
   "cell_type": "code",
   "execution_count": 17,
   "metadata": {},
   "outputs": [
    {
     "data": {
      "text/plain": [
       "G {edges = [1->2,1->3,1->4,1->5,2->3,2->4,2->5,3->4,3->5,4->5]}"
      ]
     },
     "metadata": {},
     "output_type": "display_data"
    }
   ],
   "source": [
    "simplex n = degreesToGraph.take (n+1) $ repeat n\n",
    "simplex 4"
   ]
  },
  {
   "cell_type": "markdown",
   "metadata": {},
   "source": [
    "We then see that a `4-simplex` is in fact graphic."
   ]
  }
 ],
 "metadata": {
  "kernelspec": {
   "display_name": "Haskell",
   "language": "haskell",
   "name": "haskell"
  },
  "language_info": {
   "codemirror_mode": "ihaskell",
   "file_extension": ".hs",
   "name": "haskell",
   "version": "8.0.2"
  }
 },
 "nbformat": 4,
 "nbformat_minor": 2
}
