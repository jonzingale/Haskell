{
 "cells": [
  {
   "cell_type": "markdown",
   "metadata": {},
   "source": [
    "###Abelian Actions on a Zipper\n",
    "\n",
    "The goal here is to write an `Action` class which depends on an `Abelian` data type<br>\n",
    "and acts on a `Zipper` type. Composition of left Abelian actions `Ab x G -> G` and<br>\n",
    "evaluation are then given in the instance declaration for `Action (Zipper v)`.<p>\n",
    "\n",
    "I begin by importing some useful modules and then defining a `Zipper`."
   ]
  },
  {
   "cell_type": "code",
   "execution_count": 8,
   "metadata": {},
   "outputs": [],
   "source": [
    "import System.Random\n",
    "import Text.Printf\n",
    "import Data.Char\n",
    "\n",
    "data Zipper a = Z {left :: [a], focus :: a, right :: [a]} deriving (Eq, Ord)\n",
    "\n",
    "shiftLeft :: Zipper a -> Zipper a\n",
    "shiftLeft (Z (a:as) b cs) = Z as a (b:cs)\n",
    "\n",
    "shiftRight :: Zipper a -> Zipper a\n",
    "shiftRight (Z as b (c:cs)) = Z (b:as) c cs\n",
    "\n",
    "instance Show a => Show (Zipper a) where\n",
    "   show (Z a b c) = printf format (ff reverse a) (show b) (ff id c)\n",
    "    where\n",
    "      format = \"[..%s { %s } %s..]\\n\"\n",
    "      ff f = unwords.(map show).f.(take 10)"
   ]
  },
  {
   "cell_type": "markdown",
   "metadata": {},
   "source": [
    "Notice that we can shiftLeft and shiftRight along our `Zipper` and further<br>\n",
    "there is a homespun `Show` instance so that these potentially infinite Zippers<br>\n",
    "can be displayed easily."
   ]
  },
  {
   "cell_type": "code",
   "execution_count": 10,
   "metadata": {
    "collapsed": true
   },
   "outputs": [],
   "source": [
    "integers :: Zipper Integer\n",
    "integers = Z (map negate [1..]) 0 [1..]\n",
    "\n",
    "alphabet :: Zipper Char\n",
    "alphabet = Z sahpla 'a' (tail alphas)\n",
    "  where\n",
    "    alphas = [chr $ mod n 26 + 97  | n<- [0..]]\n",
    "    sahpla = [chr $ 122 - mod n 26 | n<- [0..]]"
   ]
  },
  {
   "cell_type": "code",
   "execution_count": 14,
   "metadata": {},
   "outputs": [
    {
     "data": {
      "text/plain": [
       "[..'q' 'r' 's' 't' 'u' 'v' 'w' 'x' 'y' 'z' { 'a' } 'b' 'c' 'd' 'e' 'f' 'g' 'h' 'i' 'j' 'k'..]"
      ]
     },
     "metadata": {},
     "output_type": "display_data"
    }
   ],
   "source": [
    "alphabet"
   ]
  },
  {
   "cell_type": "markdown",
   "metadata": {},
   "source": [
    "Ok, so now there are Zippers. Now for an `Abelian` data type which can be extended<br>\n",
    "naturally to the `Monoid` class."
   ]
  },
  {
   "cell_type": "code",
   "execution_count": 15,
   "metadata": {
    "collapsed": true
   },
   "outputs": [],
   "source": [
    "data Abelian = P Int | N Int\n",
    "\n",
    "instance Show Abelian where\n",
    "  show (N m) = show.negate $ m\n",
    "  show (P m) = show m\n",
    "\n",
    "instance Eq Abelian where\n",
    "  (==) (P n) (N m) = (n==m) && (n==0)\n",
    "  (==) (P n) (P m) = n == m\n",
    "  (==) (N n) (N m) = n == m\n",
    "\n",
    "instance Monoid Abelian where\n",
    "  mappend (P n) (P m) = P $ n + m\n",
    "  mappend (P n) (N m) | n - m >= 0 = P $ n - m\n",
    "                      | otherwise = N $ n - m\n",
    "  mappend (N n) (P m) | m - n >= 0 = P $ m - n\n",
    "                      | otherwise = N $ m - n\n",
    "  mappend (N n) (N m) = P $ n + m\n",
    "  mempty = P 0"
   ]
  },
  {
   "cell_type": "markdown",
   "metadata": {},
   "source": [
    "Underlying `Abelian` is the type `Int`, which can be immediately recognized<br>\n",
    "as the de facto Abelian Object. `Abelian` is first extended to the `Eq` class<br>\n",
    "so that we can tell when two elements are the same. Next, instances for what is\n",
    "meant by mempty and mappend are given for `Abelian` objects."
   ]
  }
 ],
 "metadata": {
  "kernelspec": {
   "display_name": "Haskell",
   "language": "haskell",
   "name": "haskell"
  },
  "language_info": {
   "codemirror_mode": "ihaskell",
   "file_extension": ".hs",
   "name": "haskell",
   "version": "8.0.2"
  }
 },
 "nbformat": 4,
 "nbformat_minor": 2
}
