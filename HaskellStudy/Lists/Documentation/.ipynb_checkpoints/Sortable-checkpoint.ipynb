{
 "cells": [
  {
   "cell_type": "markdown",
   "metadata": {},
   "source": [
    "# From Listable to Sortable\n",
    "\n",
    "Once there is a notion of `Listable` with its methods acting on its instances like lists,<br>\n",
    "the notion of `Sortable` is a natural extension. Here I extend `Listables` to have behaviors<br>\n",
    "such as `sort` and `shuffle`. The `sort` is a quicksort and the `shuffle` is a key shuffle.<br>"
   ]
  },
  {
   "cell_type": "code",
   "execution_count": 50,
   "metadata": {},
   "outputs": [],
   "source": [
    "import System.Random\n",
    ":l Listable"
   ]
  },
  {
   "cell_type": "markdown",
   "metadata": {},
   "source": [
    "`System.Random` is imported here as a method for producing a stream of random numbers is required for a key shuffle.<br>\n",
    "The next few lines gives a function which produces such a stream. Notice, I am not yet concerned about a random seed.<br>\n"
   ]
  },
  {
   "cell_type": "code",
   "execution_count": 51,
   "metadata": {},
   "outputs": [
    {
     "data": {
      "text/plain": [
       "[279768,3864,196758,671882,495589,457372,652070,194519,28935,960249]"
      ]
     },
     "metadata": {},
     "output_type": "display_data"
    }
   ],
   "source": [
    "randos :: [Integer]\n",
    "randos = randomRs (0, 10^6) $ mkStdGen 32\n",
    "\n",
    "take 10 randos"
   ]
  },
  {
   "cell_type": "markdown",
   "metadata": {},
   "source": [
    "Next, I introduce the class `Sortable`. Notice that most 'special' methods are supplied by `Listable`.<br>\n",
    "The `Sortable` methods are gotten 'for free'. Lastly, instances of `Sortable` `[a]` and `Integers` are given.<br>\n",
    "The one caveat being that `Ord a => [a]`."
   ]
  },
  {
   "cell_type": "code",
   "execution_count": 52,
   "metadata": {},
   "outputs": [],
   "source": [
    "class (Ord s, Listable s) => Sortable s where\n",
    "  sort, shuffle :: s -> s\n",
    "\n",
    "  sort ns | ns == unit = unit\n",
    "          | otherwise = branch smaller ns +++ headL ns +++ branch larger ns\n",
    "    where\n",
    "      branch f xs = sort.f (headL xs) $ tailL xs\n",
    "      smaller n = filterL (<= n)\n",
    "      larger  n = filterL (>  n)\n",
    "\n",
    "  shuffle = eval . map snd . sort . zipS randos\n",
    "    where\n",
    "      eval = foldr cons unit\n",
    "      zipS [] s = []\n",
    "      zipS (x:xs) s | s == unit = []\n",
    "                    | otherwise = (x, headL s) : zipS xs (tailL s)\n",
    "                    \n",
    "instance Sortable Integer where\n",
    "instance Ord a => Sortable [a] where"
   ]
  },
  {
   "cell_type": "code",
   "execution_count": 53,
   "metadata": {},
   "outputs": [
    {
     "data": {
      "text/plain": [
       "22334456678"
      ]
     },
     "metadata": {},
     "output_type": "display_data"
    },
    {
     "data": {
      "text/plain": [
       "33243422"
      ]
     },
     "metadata": {},
     "output_type": "display_data"
    },
    {
     "data": {
      "text/plain": [
       "[2,9,8,3,1,6,5,7,4,10]"
      ]
     },
     "metadata": {},
     "output_type": "display_data"
    },
    {
     "data": {
      "text/plain": [
       "[1,2,3,4,5,6,7,8,9,10]"
      ]
     },
     "metadata": {},
     "output_type": "display_data"
    }
   ],
   "source": [
    "sort 23478662345\n",
    "shuffle 23423423\n",
    "shuffle [1..10]\n",
    "sort.shuffle $ [1..10]"
   ]
  }
 ],
 "metadata": {
  "kernelspec": {
   "display_name": "Haskell",
   "language": "haskell",
   "name": "haskell"
  },
  "language_info": {
   "codemirror_mode": "ihaskell",
   "file_extension": ".hs",
   "name": "haskell",
   "version": "8.0.2"
  }
 },
 "nbformat": 4,
 "nbformat_minor": 2
}
