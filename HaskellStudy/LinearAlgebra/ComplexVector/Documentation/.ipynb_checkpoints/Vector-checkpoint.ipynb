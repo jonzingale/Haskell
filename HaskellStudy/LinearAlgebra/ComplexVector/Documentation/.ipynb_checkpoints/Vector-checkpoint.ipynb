{
 "cells": [
  {
   "cell_type": "markdown",
   "metadata": {},
   "source": [
    "# Vector\n",
    "**Vector** is a module designed to facilitate mathematical vector operations in the hermitian-style. For simplicity, I model only 3 dimensional vectors but allow the underlying fields to be arbitrary. **Complex** and **Double** serve as example fields throughout. The data type **ThreeVector** has a vector constructor: **`V3 x x x`** and a scalar constructor: **`S x`**.<p>\n",
    "**ThreeVector** is then extends the **functor** class with fmap mapping over the components in the obvious way.\n",
    "\n",
    "\n"
   ]
  },
  {
   "cell_type": "code",
   "execution_count": 31,
   "metadata": {},
   "outputs": [],
   "source": [
    "import Data.Complex\n",
    "\n",
    "data ThreeVector a = V3 a a a | S a deriving (Eq, Show)\n",
    "\n",
    "instance Functor ThreeVector where\n",
    "  fmap f (V3 x y z) = V3 (f x) (f y) (f z)\n",
    "  fmap f (S x) = S $ f x"
   ]
  },
  {
   "cell_type": "markdown",
   "metadata": {},
   "source": [
    "\n",
    "The Comp class introduces conjugation for ThreeVectors. **Complex** types are conjugated while **Double** types are left invariant. \n"
   ]
  },
  {
   "cell_type": "code",
   "execution_count": 25,
   "metadata": {},
   "outputs": [],
   "source": [
    "class Comp c where\n",
    "    conj :: c -> c\n",
    "\n",
    "instance Num a => Comp (Complex a) where\n",
    "    conj = conjugate\n",
    "\n",
    "instance Comp Double where\n",
    "    conj = id\n",
    "\n",
    "instance Comp a => Comp (ThreeVector a) where\n",
    "  conj = fmap conj"
   ]
  },
  {
   "cell_type": "code",
   "execution_count": 30,
   "metadata": {},
   "outputs": [
    {
     "data": {
      "text/plain": [
       "2 :+ (-3)"
      ]
     },
     "metadata": {},
     "output_type": "display_data"
    },
    {
     "data": {
      "text/plain": [
       "V3 (1 :+ (-2)) (3 :+ 3) (0 :+ (-1))"
      ]
     },
     "metadata": {},
     "output_type": "display_data"
    },
    {
     "data": {
      "text/plain": [
       "V3 1.0 2.0 3.0"
      ]
     },
     "metadata": {},
     "output_type": "display_data"
    }
   ],
   "source": [
    "conj (2 :+ 3)\n",
    "conj $ V3 (1 :+ 2) (3 :+ (-3)) (0 :+ 1)\n",
    "conj $ V3 1 2 3"
   ]
  },
  {
   "cell_type": "code",
   "execution_count": null,
   "metadata": {
    "collapsed": true
   },
   "outputs": [],
   "source": []
  },
  {
   "cell_type": "code",
   "execution_count": null,
   "metadata": {
    "collapsed": true
   },
   "outputs": [],
   "source": []
  },
  {
   "cell_type": "code",
   "execution_count": null,
   "metadata": {
    "collapsed": true
   },
   "outputs": [],
   "source": []
  }
 ],
 "metadata": {
  "kernelspec": {
   "display_name": "Haskell",
   "language": "haskell",
   "name": "haskell"
  },
  "language_info": {
   "codemirror_mode": "ihaskell",
   "file_extension": ".hs",
   "name": "haskell",
   "version": "8.0.2"
  }
 },
 "nbformat": 4,
 "nbformat_minor": 2
}
