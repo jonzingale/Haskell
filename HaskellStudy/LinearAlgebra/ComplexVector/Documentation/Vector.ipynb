{
 "cells": [
  {
   "cell_type": "markdown",
   "metadata": {},
   "source": [
    "# Vector\n",
    "**Vector** is a module designed to facilitate mathematical vector operations in the hermitian-style. For simplicity, I model only 3 dimensional vectors but allow the underlying fields to be arbitrary. **Complex** and **Double** serve as example fields throughout. The data type **ThreeVector** has a vector constructor: **`V3 x x x`** and a scalar constructor: **`S x`**.<p>\n",
    "**ThreeVector** then extends the **Functor** class with fmap mapping over the components in the obvious way.\n",
    "\n",
    "\n"
   ]
  },
  {
   "cell_type": "code",
   "execution_count": 2,
   "metadata": {
    "collapsed": true
   },
   "outputs": [],
   "source": [
    "import Data.Complex\n",
    "\n",
    "data ThreeVector a = V3 a a a | S a deriving (Eq, Show)\n",
    "\n",
    "instance Functor ThreeVector where\n",
    "  fmap f (V3 x y z) = V3 (f x) (f y) (f z)\n",
    "  fmap f (S x) = S $ f x"
   ]
  },
  {
   "cell_type": "markdown",
   "metadata": {},
   "source": [
    "\n",
    "The **Comp** class introduces conjugation for **ThreeVectors**. **Complex** types are conjugated while **Double** types are left invariant. \n"
   ]
  },
  {
   "cell_type": "code",
   "execution_count": 3,
   "metadata": {
    "collapsed": true
   },
   "outputs": [],
   "source": [
    "class Comp c where\n",
    "    conj :: c -> c\n",
    "\n",
    "instance Num a => Comp (Complex a) where\n",
    "    conj = conjugate\n",
    "\n",
    "instance Comp Double where\n",
    "    conj = id\n",
    "\n",
    "instance Comp a => Comp (ThreeVector a) where\n",
    "  conj = fmap conj"
   ]
  },
  {
   "cell_type": "code",
   "execution_count": 4,
   "metadata": {},
   "outputs": [
    {
     "data": {
      "text/plain": [
       "2 :+ (-3)"
      ]
     },
     "metadata": {},
     "output_type": "display_data"
    },
    {
     "data": {
      "text/plain": [
       "V3 (1 :+ (-2)) (3 :+ 3) (0 :+ (-1))"
      ]
     },
     "metadata": {},
     "output_type": "display_data"
    },
    {
     "data": {
      "text/plain": [
       "V3 1.0 2.0 3.0"
      ]
     },
     "metadata": {},
     "output_type": "display_data"
    }
   ],
   "source": [
    "conj (2 :+ 3)\n",
    "conj $ V3 (1 :+ 2) (3 :+ (-3)) (0 :+ 1)\n",
    "conj $ V3 1 2 3"
   ]
  },
  {
   "cell_type": "markdown",
   "metadata": {},
   "source": [
    "Now for the heart and soul of any module daring enough to call itself **Vector**.<br>\n",
    "The class **Vector** provides for the four base methods:<br>\n",
    "* innerproduct, `(<|>)`\n",
    "* norm, norm\n",
    "* evaluation, eval\n",
    "* projections, prs\n",
    "\n",
    "Simultaneously, I extend **Num** to include **ThreeVector**. Extending provides meaning for summing, differencing, multiplying and taking the absolute value wrt **ThreeVector**. Notice that `abs` relies on `<|>` and `norm` relies and `abs`. This mutual dependency simplifies the code, but requires that both extensions are present at the time of compilation."
   ]
  },
  {
   "cell_type": "code",
   "execution_count": 8,
   "metadata": {},
   "outputs": [],
   "source": [
    "instance (Floating a, Num a, Comp a) => Num (ThreeVector a) where\n",
    "  (+) (V3 a b c) (V3 x y z) = V3 (a+x) (b+y) (c+z)\n",
    "  (-) (V3 a b c) (V3 x y z) = V3 (a-x) (b-y) (c-z)\n",
    "  (*) (V3 a b c) (S x) = V3 (a*x) (b*x) (x*x)\n",
    "  (*) (S x) (V3 a b c) = V3 (a*x) (b*x) (x*x)\n",
    "  abs vect = fmap sqrt (vect <|> vect)\n",
    "\n",
    "class Vector v where\n",
    "  (<|>) :: (Num a, Comp a) => v a -> v a -> v a\n",
    "  norm :: (Floating a, Comp a) => v a -> v a\n",
    "  eval :: Num a => v a -> v a\n",
    "  prs :: v a -> [a]\n",
    "\n",
    "instance Vector ThreeVector where\n",
    "  (<|>) (V3 a b c) (V3 x y z) = V3 (conj a *x) (conj b *y) (conj c*z) -- Hermitian\n",
    "  eval (V3 a b c) = S $ a + b + c\n",
    "  prs (V3 a b c) = [a, b, c]\n",
    "  norm = eval.abs"
   ]
  },
  {
   "cell_type": "markdown",
   "metadata": {
    "collapsed": true
   },
   "source": [
    "Now we can take the Hermitian innerproduct of two complex vectors and return their evaluation."
   ]
  },
  {
   "cell_type": "code",
   "execution_count": 11,
   "metadata": {},
   "outputs": [
    {
     "data": {
      "text/plain": [
       "S (2.0 :+ 0.0)"
      ]
     },
     "metadata": {},
     "output_type": "display_data"
    }
   ],
   "source": [
    "x = V3 (1 :+ 2) (3 :+ (-3)) (0 :+ 1)\n",
    "y = V3 (3 :+ 2) (1 :+ 2) (5 :+ (-2))\n",
    "eval $ x <|> y\n"
   ]
  },
  {
   "cell_type": "code",
   "execution_count": null,
   "metadata": {
    "collapsed": true
   },
   "outputs": [],
   "source": []
  }
 ],
 "metadata": {
  "kernelspec": {
   "display_name": "Haskell",
   "language": "haskell",
   "name": "haskell"
  },
  "language_info": {
   "codemirror_mode": "ihaskell",
   "file_extension": ".hs",
   "name": "haskell",
   "version": "8.0.2"
  }
 },
 "nbformat": 4,
 "nbformat_minor": 2
}
