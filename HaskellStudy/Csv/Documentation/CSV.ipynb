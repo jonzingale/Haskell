{
 "cells": [
  {
   "cell_type": "markdown",
   "metadata": {},
   "source": [
    "### Working with Csv files in Haskell.\n",
    "\n",
    "Every way I have seen to work with csv files in Haskell seems fraught.<br>\n",
    "There seems to be a lot of overhead in terms of imported modules and a whole<br>\n",
    "slew of type-theoretic thinking to be done. This document is intended to act both as<br>\n",
    "a guide to as well as a bread-crumb trail back through the forest of Haskell's `Data.Csv`.<p>\n",
    "\n",
    "As a working example, I will demonstrate how to build appropriate record data types<br>\n",
    "and then extend the `Data.Csv` class `FromRecord` to include these types.<p>\n",
    "\n",
    "First, the imports:"
   ]
  },
  {
   "cell_type": "code",
   "execution_count": 7,
   "metadata": {},
   "outputs": [],
   "source": [
    "{-# LANGUAGE DeriveGeneric #-}\n",
    "import qualified Data.ByteString.Lazy as BL\n",
    "import Data.Vector (Vector, empty, toList)\n",
    "import Data.Either.Extra (fromRight)\n",
    "import GHC.Generics (Generic)\n",
    "import Data.List\n",
    "import Data.Csv"
   ]
  },
  {
   "cell_type": "markdown",
   "metadata": {},
   "source": [
    "Yes, there is a lot here. No, I will not describe what each import is about.<p>\n",
    "Next, I want to write two data types. The first gives a description for how<br>\n",
    "a `GoogleRecord` is to be formed, and the second for how a `WyndhamRecord`<br>\n",
    "is to be formed. Once we have these types, it will be important to extend the<br>\n",
    "`FromRecord` class to both of them. Since, the `GoogleRecord` is *nicely* formed,<br>\n",
    "we can use a derived instance. Unfortunately, the `WyndhamRecord` is not so<br>\n",
    "*nicely* formed and so we will need to define its instance explicitly."
   ]
  },
  {
   "cell_type": "code",
   "execution_count": 10,
   "metadata": {},
   "outputs": [],
   "source": [
    "data GoogleRecord = BadGoogleRecord |\n",
    "                    GRec {accountId :: !Integer,\n",
    "                          accountName :: !String,\n",
    "                          groupName :: !String,\n",
    "                          hotelId :: !Integer,\n",
    "                          hotelName :: !String} deriving (Generic, Show)\n",
    "\n",
    "data WyndhamRecord = WRec {brand :: !String, site :: !Integer} |\n",
    "                     BadWyndhamRecord deriving (Generic, Show)\n",
    "                     \n",
    "instance FromRecord GoogleRecord\n",
    "instance FromRecord WyndhamRecord where -- namedRecord would be more specific.\n",
    "    parseRecord v = WRec <$> v .! 0 <*> v .! 2 -- 0th and 2nd index in Csv"
   ]
  },
  {
   "cell_type": "markdown",
   "metadata": {},
   "source": [
    "Now, the dream is to parse actual data and have things play nice.<br>\n",
    "The `decode` method, native to Data.Csv, appears to want to return<br>\n",
    "data as a complicated `Either String (Vector a)` type and<br>\n",
    "so it seems like a good idea to create type synonyms to keep track.<br>\n",
    "Additionally, writing the parsers seems necessary."
   ]
  },
  {
   "cell_type": "code",
   "execution_count": 12,
   "metadata": {
    "collapsed": true
   },
   "outputs": [],
   "source": [
    "type EitherGoogle  = Either String (Vector GoogleRecord)\n",
    "type EitherWyndham = Either String (Vector WyndhamRecord)\n",
    "\n",
    "googleRecords = toList.(fromRight empty).parseCsv\n",
    "  where parseCsv csv = decode HasHeader csv :: EitherGoogle\n",
    "\n",
    "wyndhamRecords = toList.(fromRight empty).parseCsv\n",
    "  where parseCsv csv = decode HasHeader csv :: EitherWyndham"
   ]
  },
  {
   "cell_type": "markdown",
   "metadata": {},
   "source": [
    "Thankfully, due to the instances above we can explicitly declare<br>\n",
    "the types for the csv's directly in the parseCsv helper methods!<br>\n",
    "Pure magic.<p>\n",
    "\n",
    "Next, let's imagine that we would like to compare how `GroupNames` in<br>\n",
    "the google csv may be different than the `BrandNames` in the wyndham csv.<br>\n",
    "I then want a method, say, that matches each google record to each wyndham<br>\n",
    "record by matching hotelId on the first to site on the second. Then it returns<br>\n",
    "pairs of google groupNames with wyndham brands."
   ]
  },
  {
   "cell_type": "code",
   "execution_count": 14,
   "metadata": {},
   "outputs": [],
   "source": [
    "type Brand = String\n",
    "type GroupName = String\n",
    "\n",
    "returnBrand :: [GoogleRecord] -> [WyndhamRecord] -> [(GroupName, [Brand])]\n",
    "returnBrand [] _ = []\n",
    "returnBrand (g:gs) ws = (groupName g, brands g ws) : returnBrand gs ws\n",
    "  where\n",
    "    brands grec = (map brand).filter (\\w -> hotelId grec == site w)"
   ]
  },
  {
   "cell_type": "markdown",
   "metadata": {},
   "source": [
    "Now for a `main` method to test out the work:"
   ]
  },
  {
   "cell_type": "code",
   "execution_count": 20,
   "metadata": {},
   "outputs": [
    {
     "data": {
      "text/plain": [
       "[(\" Wyndham\",[\"Wyndham\"]),(\" Wyndham\",[]),(\" Ramada\",[]),(\" Baymont\",[\"Redmond\"])]"
      ]
     },
     "metadata": {},
     "output_type": "display_data"
    }
   ],
   "source": [
    "main = do  \n",
    "  google <- BL.readFile \"./../google.csv\"\n",
    "  wyndham <- BL.readFile \"./../wyndham.csv\"\n",
    "  let grecords = googleRecords google\n",
    "  let wrecords = wyndhamRecords wyndham\n",
    "  print $ returnBrand grecords wrecords\n",
    "  \n",
    "main"
   ]
  }
 ],
 "metadata": {
  "kernelspec": {
   "display_name": "Haskell",
   "language": "haskell",
   "name": "haskell"
  },
  "language_info": {
   "codemirror_mode": "ihaskell",
   "file_extension": ".hs",
   "name": "haskell",
   "version": "8.0.2"
  }
 },
 "nbformat": 4,
 "nbformat_minor": 2
}
