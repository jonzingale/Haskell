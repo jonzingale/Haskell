{
 "cells": [
  {
   "cell_type": "markdown",
   "metadata": {},
   "source": [
    "## CSV: Named Records\n",
    "\n",
    "Csv files in the wild can be very unstable things. Often when writing<br>\n",
    "software which depends on Csv imports to provide reliable data, one cannot<br>\n",
    "simply hope and pray that the headers are in the same order as the time<br>\n",
    "before. Of course, one can always throw an error when the headers are found<br>\n",
    "to be different than one thought. Other times, it is sufficient to verify that<br>\n",
    "the data is in the Csv and being able to access the correct field is enough.<br>\n",
    "For this purpose, `Data.Csv` has the `NamedRecord` data type."
   ]
  },
  {
   "cell_type": "code",
   "execution_count": null,
   "metadata": {
    "collapsed": true
   },
   "outputs": [],
   "source": []
  }
 ],
 "metadata": {
  "kernelspec": {
   "display_name": "Haskell",
   "language": "haskell",
   "name": "haskell"
  },
  "language_info": {
   "codemirror_mode": "ihaskell",
   "file_extension": ".hs",
   "name": "haskell",
   "version": "8.0.2"
  }
 },
 "nbformat": 4,
 "nbformat_minor": 2
}
