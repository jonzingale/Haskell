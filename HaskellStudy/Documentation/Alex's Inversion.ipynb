{
 "cells": [
  {
   "cell_type": "markdown",
   "metadata": {},
   "source": [
    "So, the equation I'd need to invert is \n",
    "\n",
    "$y(\\tau) = \\tau*cos(\\theta) + a*sin(k*\\tau)*sin(\\theta)$\n",
    "\n",
    "i.e. I need $\\tau(y)$. A quick wolfram tells me that even the function $y(t) = t + sin(t)$ isn't invertible,<br> other than as some infinite sum. I then need to integrate something that looks like either:\n",
    "<p>\n",
    "$1 / \\sqrt(1 + cos(t(y)^2)) $ or<br>  $t(y) / \\sqrt(1 + cos(t(y)^2)) $ over y.<p> Which will likely involve me doing several months of asymptotic analysis and getting an answer that's worse.\n"
   ]
  },
  {
   "cell_type": "code",
   "execution_count": 28,
   "metadata": {},
   "outputs": [
    {
     "data": {
      "text/plain": [
       "0.75"
      ]
     },
     "execution_count": 28,
     "metadata": {},
     "output_type": "execute_result"
    }
   ],
   "source": [
    "from math import *\n",
    "sin(asin(0.75))"
   ]
  },
  {
   "cell_type": "markdown",
   "metadata": {},
   "source": [
    "$asin, acos :: [-1,1] \\longrightarrow \\mathbb{R}$<br>\n",
    "$sin, cos :: [-\\infty, \\infty] \\longrightarrow [-1,1]$<br>"
   ]
  },
  {
   "cell_type": "code",
   "execution_count": null,
   "metadata": {},
   "outputs": [],
   "source": []
  },
  {
   "cell_type": "code",
   "execution_count": null,
   "metadata": {},
   "outputs": [],
   "source": []
  },
  {
   "cell_type": "code",
   "execution_count": null,
   "metadata": {
    "collapsed": true
   },
   "outputs": [],
   "source": []
  }
 ],
 "metadata": {
  "kernelspec": {
   "display_name": "Python 3",
   "language": "python",
   "name": "python3"
  },
  "language_info": {
   "codemirror_mode": {
    "name": "ipython",
    "version": 3
   },
   "file_extension": ".py",
   "mimetype": "text/x-python",
   "name": "python",
   "nbconvert_exporter": "python",
   "pygments_lexer": "ipython3",
   "version": "3.6.1"
  }
 },
 "nbformat": 4,
 "nbformat_minor": 2
}
