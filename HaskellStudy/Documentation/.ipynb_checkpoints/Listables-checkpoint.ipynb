{
 "cells": [
  {
   "cell_type": "markdown",
   "metadata": {},
   "source": [
    "# Listables\n",
    "\n",
    "**Listables** is a module which contains the **Listable** class. The **Listable** class allows a user to create instances of types which can be treated as lists. Given a minimal description:<br>\n",
    "* takeL :: Integer -> m -> m\n",
    "* dropL :: Integer -> m -> m\n",
    "* cons :: m -> m -> m\n",
    "* (+++) :: m -> m -> m\n",
    "* unit :: m\n",
    "\n",
    "one gets the following functions for free:\n",
    "* (!!!) :: m -> Integer -> m\n",
    "* lengthL :: m -> Integer\n",
    "* reverseL :: m -> m\n",
    "* headL :: m -> m\n",
    "* tailL :: m -> m"
   ]
  },
  {
   "cell_type": "markdown",
   "metadata": {},
   "source": [
    "Notice below that each of the *Free* functions are defined in terms of the required ones.\n",
    "By indenting these definitions, placing them under the class banner, the haskell compiler expects the function definitions to be self-contained and defined purely in terms of the **Listable** class and standard functions given by **Prelude**. Additionally, Listable demands that its instances be comparable via the Equality class, **Eq**. Without being able to compare two values, there is no way to identify when a base case, *unit*, is reached. *lengthL* and *reverseL* rely upon this in their recursion."
   ]
  },
  {
   "cell_type": "code",
   "execution_count": 1,
   "metadata": {
    "collapsed": true
   },
   "outputs": [],
   "source": [
    "class Eq m => Listable m where\n",
    "  takeL :: Integer -> m -> m\n",
    "  dropL :: Integer -> m -> m\n",
    "  cons :: m -> m -> m\n",
    "  (+++) :: m -> m -> m\n",
    "  unit :: m\n",
    "\n",
    "  (!!!) :: m -> Integer -> m\n",
    "  lengthL :: m -> Integer\n",
    "  reverseL :: m -> m\n",
    "  headL :: m -> m\n",
    "  tailL :: m -> m\n",
    "\n",
    "  headL = takeL 1\n",
    "  tailL = dropL 1\n",
    "  (!!!) ls n = headL.dropL n $ ls\n",
    "\n",
    "  lengthL ls | unit == ls = 0\n",
    "             | otherwise = 1 + (lengthL.dropL 1) ls\n",
    "\n",
    "  reverseL ns = ff ns unit\n",
    "    where\n",
    "      ff ns accum | ns == unit = accum\n",
    "                  | otherwise = ff (tailL ns) $ headL ns `cons` accum"
   ]
  },
  {
   "cell_type": "markdown",
   "metadata": {},
   "source": [
    "Now for some instances. Since **`[a]`** is essentially the defacto model of our class, it seems most obvious to begin with this instance. Above, the **Listable** type of *cons* is slightly different than one usually expects for `(:)`.\n",
    "<p>\n",
    "Here, *cons* is constrained as: **`cons :: m -> m -> m`**<br>\n",
    "where `(:)` is usually constrained as: **`(:) :: a -> [a] -> [a]`**.<p>\n",
    "This difference will ultimately have an impact on how a **Listable** *cons* behaves.\n"
   ]
  },
  {
   "cell_type": "code",
   "execution_count": 2,
   "metadata": {
    "collapsed": true
   },
   "outputs": [],
   "source": [
    "instance Eq a => Listable [a] where\n",
    "  dropL = drop.fromIntegral\n",
    "  takeL = take.fromIntegral\n",
    "  cons [n] ns = n : ns -- wrap the left argument with [].\n",
    "  (+++) = (++)\n",
    "  unit = []"
   ]
  },
  {
   "cell_type": "code",
   "execution_count": 3,
   "metadata": {},
   "outputs": [
    {
     "data": {
      "text/plain": [
       "[2,4,5,6,7,8,9]"
      ]
     },
     "metadata": {},
     "output_type": "display_data"
    }
   ],
   "source": [
    "[2] `cons` dropL 3 [1..9]"
   ]
  },
  {
   "cell_type": "markdown",
   "metadata": {},
   "source": [
    "Next, something less trivial. We can in fact treat numbers of type **Integer** as **Listable** as well. Best of all, all one needs to do is write instances for the necessary functions: takeL, dropL, cons, (+++) and unit."
   ]
  },
  {
   "cell_type": "code",
   "execution_count": 19,
   "metadata": {
    "collapsed": true
   },
   "outputs": [],
   "source": [
    "instance Listable Integer where\n",
    "  (+++) ns ms = ns * 10^lengthL ms + ms\n",
    "  dropL n zs = div zs (10^n)\n",
    "  takeL n zs = mod zs (10^n)\n",
    "  cons n ns = ns * 10 + n\n",
    "  unit = 0\n"
   ]
  },
  {
   "cell_type": "code",
   "execution_count": 20,
   "metadata": {},
   "outputs": [
    {
     "data": {
      "text/plain": [
       "9876542"
      ]
     },
     "metadata": {},
     "output_type": "display_data"
    }
   ],
   "source": [
    "2 `cons` dropL 3 987654321"
   ]
  },
  {
   "cell_type": "markdown",
   "metadata": {},
   "source": [
    "It is probably worth mentioning that the **Listable** behavior of **`[a]`** and of **Integer** are noticeably different. **Listable** treats an **Integer** type as a list whose order is *opposite* to the order of a **Listable [a]**. This choice is arbitrary in that the **Integer** instance could likely have been written so that the two types have the same direction, though I am not entirely sure how to do it purely arithmetically. Additionally note, that since *zero* is defined as the monoidal unit, it behaves more similarly to *`[]`* than it does to the actual number 0."
   ]
  },
  {
   "cell_type": "code",
   "execution_count": 37,
   "metadata": {},
   "outputs": [
    {
     "data": {
      "text/plain": [
       "[True,False]"
      ]
     },
     "metadata": {},
     "output_type": "display_data"
    }
   ],
   "source": [
    "[takeL 1 1000002 == reverseL 20, lengthL 0 == lengthL 1]"
   ]
  }
 ],
 "metadata": {
  "kernelspec": {
   "display_name": "Haskell",
   "language": "haskell",
   "name": "haskell"
  },
  "language_info": {
   "codemirror_mode": "ihaskell",
   "file_extension": ".hs",
   "name": "haskell",
   "version": "8.0.2"
  }
 },
 "nbformat": 4,
 "nbformat_minor": 2
}
