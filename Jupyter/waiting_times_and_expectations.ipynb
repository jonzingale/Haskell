{
 "cells": [
  {
   "cell_type": "markdown",
   "metadata": {},
   "source": [
    "Sarah,\n",
    "\n",
    "I will attempt here to describe what I failed to describe last night.<br>\n",
    "The goal is to simplify the computation of expected waiting times<br>\n",
    "given a probability expressed as a rational number, $(n,d) \\in \\mathrm{Q}$,<br>\n",
    "and the identity: $(1-x)^{-2} = \\sum_{t=0}^{\\infty}(t+1)x^t$.<br>\n",
    "\n"
   ]
  },
  {
   "cell_type": "markdown",
   "metadata": {},
   "source": [
    "Expressed in terms of $(n,d)$ I seek an expectation of the form:<br>\n",
    "\n",
    "$\\operatorname{E}(n,d)=\\sum_{t=1}^{\\infty}t(n,d)^t$.<br>\n"
   ]
  },
  {
   "cell_type": "markdown",
   "metadata": {},
   "source": [
    "Consider first the left hand side of the identity above.<br>\n",
    "$l(x) = (1-x)^{-2}$ can be rewritten in terms of $(n,d)$ as follows:<br>\n",
    "\n",
    "$l(n,d) = (1-(n,d))^{-2}$<br>\n",
    "$l(n,d) = ((d,d)-(n,d))^{-2}$<br>\n",
    "$l(n,d) = (d-n, d)^{-2}$<br>\n",
    "$l(n,d) = (d, d-n)^{2}$<br>\n",
    "$l(n,d) = (d^2, (d-n)^{2})$<br>\n"
   ]
  },
  {
   "cell_type": "markdown",
   "metadata": {},
   "source": [
    "Now looking at the right hand side of the identity, distributing<br>\n",
    "$x^{t}$ over $(t+1)$ and extracting the zeroth term in the second sum,<br>\n",
    "\n",
    "$\\sum_{t=0}^{\\infty}(t+1)x^t$<br>\n",
    "$\\sum_{t=0}^{\\infty}tx^t + \\sum_{t=0}^{\\infty}x^t$<br>\n",
    "$(0 + \\Sigma^{\\infty}_{t=1}tx^t) + (1 + \\Sigma^{\\infty}_{t=1}x^t)$,<br>\n",
    "\n",
    "puts the expression in a form where I can separate an easy to calculate<br>\n",
    "limit from what turns out to be the desired form of the expectation,<br>\n",
    "\n",
    "$\\sum_{t=1}^{\\infty}tx^t$ and $1 + \\sum_{t=1}^{\\infty}x^t$.<br>\n",
    "\n",
    "The latter expression (the easy to calculate limit) can now also<br>\n",
    "be expressed in terms of $(n,d)$. Remembering from some calculus course<br>\n",
    "sometime in my life that calculating a geometric series:<br>\n",
    "\n",
    "$S(x) = x^1 + x^2 + \\cdots $ with $|x| < 1$<br>\n",
    "\n",
    "is as simple as realizing that multiplying $S(x)$ by $x$ is the same as<br>\n",
    "'popping the head off' of the 'list',  $S(x) \\cdot x = S(x) - x$.<br>\n",
    "Therefore, shortening S(x) to S, I can proceed to rewrite the limit:<br>\n",
    "\n",
    "$S \\cdot (n, d) = S - (n, d)$<br>\n",
    "$(n ,d) = S\\cdot(1 - (n, d))$<br>\n",
    "$(n, d) = S\\cdot((d, d) - (n, d))$<br>\n",
    "$(n, d) = S\\cdot(d-n, d)$<br>\n",
    "$S = (d, d-n) \\cdot (n, d)$<br>\n",
    "$S = (n, d-n)$<br>\n",
    "$S = (dn-n^2, (d-n)^2)$<br>\n"
   ]
  },
  {
   "cell_type": "markdown",
   "metadata": {},
   "source": [
    "Now summing the 1,<br>\n",
    "$1 + S = 1 + \\sum_{t=1}^{\\infty}x^t$<br>\n",
    "$1 + S = 1 + (dn-n^2, (d-n)^2)$<br>\n",
    "$1 + S = ((d-n)^2, (d-n)^2) + (dn-n^2, (d-n)^2)$<br>\n",
    "$1 + S = ((d-n)^2 + dn-n^2, (d-n)^2)$<br>\n",
    "$1 + S = (d^2 - 2dn+n^2 + dn-n^2, (d-n)^2)$<br>\n",
    "\n",
    "cancelling yields,<br>\n",
    "$r(n,d) = 1 + S = (d^2 - dn, (d-n)^2)$<br>"
   ]
  },
  {
   "cell_type": "markdown",
   "metadata": {},
   "source": [
    "Putting this result together with the rest yields,<br>\n",
    "\n",
    "$(1-x)^{-2} = \\sum_{t=0}^{\\infty}(t+1)x^t$<br>\n",
    "$l(n,d) = \\sum_{t=1}^{\\infty}tx^t + r(n,d)$<br>\n",
    "$l(n,d) - r(n,d) = \\sum_{t=1}^{\\infty}tx^t$<br>\n",
    "$(d^2, (d-n)^{2}) - (d^2 - dn, (d-n)^2) = \\sum_{t=1}^{\\infty}tx^t$<br>\n",
    "$(dn, (d-n)^{2}) = \\sum_{t=1}^{\\infty}tx^t$<br>"
   ]
  },
  {
   "cell_type": "markdown",
   "metadata": {},
   "source": [
    "Finally giving the result,<br>\n",
    "\n",
    "$\\operatorname{E}(n,d) = \\sum_{t=1}^{\\infty}tx^t = (dn, (d-n)^2) = \\frac{dn}{(d-n)^2}$"
   ]
  },
  {
   "cell_type": "markdown",
   "metadata": {},
   "source": [
    "Love,<br>\n",
    "Jon"
   ]
  }
 ],
 "metadata": {
  "kernelspec": {
   "display_name": "Haskell",
   "language": "haskell",
   "name": "haskell"
  },
  "language_info": {
   "codemirror_mode": "ihaskell",
   "file_extension": ".hs",
   "name": "haskell",
   "version": "8.0.2"
  }
 },
 "nbformat": 4,
 "nbformat_minor": 2
}
