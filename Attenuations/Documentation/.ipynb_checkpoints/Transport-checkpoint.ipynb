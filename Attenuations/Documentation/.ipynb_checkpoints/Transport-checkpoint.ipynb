{
 "cells": [
  {
   "cell_type": "markdown",
   "metadata": {},
   "source": [
    "### The Transport Problem\n",
    "\n",
    "```\n",
    "Given a point (x,0) or (0,y) and an angle θ where the ray\n",
    "enters a given lattice, find the entry points for each cell\n",
    "the ray passes through.\n",
    "```\n",
    "\n",
    "Solution:<p>\n",
    "\n",
    "The ray length between any two adjacent lines y=n and y=n+1,<br>\n",
    "with $n {\\in} {\\mathbb Z}$ is directly given by the slope of the ray. To see this<br>\n",
    "consider the equation for a line, $\\ y = mx + b$, and $tan\\ \\theta$,<br>\n",
    "where we understand `tan :: Angle -> Slope`.<p>\n",
    "\n",
    "Clearly any line parallel to the ray has the same length as the ray<br>\n",
    "from $y_n$ to $y_{n+1}$. This implies that adding any constant b does not<br>\n",
    "have an effect on the ray length. Therefore given $y$, the value of $x$<br>\n",
    "at the kth $y$, $x_k$ is given by:\n",
    "\n",
    "<p>$x_k = \\frac{k}{tan\\ \\theta}$<p>\n",
    "\n",
    "ie. Letting $y$ vary along the non-negative integers gives the<br>\n",
    "$x$-valued entry point at the kth cell. Taking the fractional part<br>\n",
    "of the sum of the original x value with its transported value, $x_k$,<br>\n",
    "yields the entry point relative to the particular cell.\n",
    "<p>$x_c = fractional(x + x_k)$<p>\n",
    "\n",
    "The $y$ values at the $x$-crossings are handled similarly:\n",
    "\n",
    "<p>\n",
    "$y_k = {k}*{tan\\ \\theta}$<br>\n",
    "$y_c = fractional({y} + {k*tan\\ \\theta})$"
   ]
  },
  {
   "cell_type": "code",
   "execution_count": 18,
   "metadata": {},
   "outputs": [
    {
     "data": {
      "text/plain": [
       "0.49264068711928477"
      ]
     },
     "metadata": {},
     "output_type": "display_data"
    }
   ],
   "source": [
    "fractional :: Double -> Double\n",
    "fractional = snd.properFraction\n",
    "\n",
    "xks θ = [k / tan θ | k<-[0..]]\n",
    "yks θ = [k * tan θ | k<-[0..]]\n",
    "\n",
    "kthX (x,y) θ k = fractional (x + (xks θ)!!k)\n",
    "\n",
    "kthX (1/4, 0) (pi/8) 3 -- the xth-entry for the 3rd cell"
   ]
  },
  {
   "cell_type": "code",
   "execution_count": null,
   "metadata": {},
   "outputs": [],
   "source": []
  },
  {
   "cell_type": "code",
   "execution_count": null,
   "metadata": {
    "collapsed": true
   },
   "outputs": [],
   "source": []
  },
  {
   "cell_type": "code",
   "execution_count": null,
   "metadata": {
    "collapsed": true
   },
   "outputs": [],
   "source": []
  }
 ],
 "metadata": {
  "kernelspec": {
   "display_name": "Haskell",
   "language": "haskell",
   "name": "haskell"
  },
  "language_info": {
   "codemirror_mode": "ihaskell",
   "file_extension": ".hs",
   "name": "haskell",
   "version": "8.0.2"
  }
 },
 "nbformat": 4,
 "nbformat_minor": 2
}
