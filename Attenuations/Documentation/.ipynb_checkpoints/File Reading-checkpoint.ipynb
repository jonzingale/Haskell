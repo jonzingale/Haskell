{
 "cells": [
  {
   "cell_type": "markdown",
   "metadata": {},
   "source": [
    "## File Reading:\n",
    "\n",
    "This document outlines techniques for efficiently reading and parsing a<br>\n",
    "given file of `Double` precision `Floats` in Haskell. Further, outlined<br>\n",
    "here is an Api for querying and working with the contents of the file.<p>\n",
    "\n",
    "The following code makes use of a number of libraries and ideas which<br>\n",
    "can be found here: \n",
    "<a href=\"https://wiki.haskell.org/Numeric_Haskell:_A_Vector_Tutorial#An_example:_filling_a_vector_from_a_file\">\n",
    "Numeric_Haskell: A Vector Tutorial</a>. Some of the information<br>\n",
    "found there is a bit outdated, in particular `readDouble` is now <a href=\"https://github.com/wrengr/bytestring-lexing#changes-version-050-2015-05-06-vs-043-2013-03-21\">deprecated</a><br>\n",
    "in favor of `readDecimal`. There are a few loose-ends created in the wake<br>\n",
    "of this change. I hope to cover them here.<p>\n",
    "\n",
    "Essential to what follows are these libraries:\n",
    "* Data.ByteString.Char8\n",
    "* Data.ByteString.Lex.Fractional\n",
    "* Data.Vector.Unboxed\n",
    "* System.Environment\n"
   ]
  },
  {
   "cell_type": "code",
   "execution_count": null,
   "metadata": {
    "collapsed": true
   },
   "outputs": [],
   "source": []
  }
 ],
 "metadata": {
  "kernelspec": {
   "display_name": "Haskell",
   "language": "haskell",
   "name": "haskell"
  },
  "language_info": {
   "codemirror_mode": "ihaskell",
   "file_extension": ".hs",
   "name": "haskell",
   "version": "8.0.2"
  }
 },
 "nbformat": 4,
 "nbformat_minor": 2
}
