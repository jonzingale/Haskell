{
 "cells": [
  {
   "cell_type": "markdown",
   "metadata": {},
   "source": [
    "## Gaussian Beam\n",
    "\n",
    "- The Strategy\n",
    "- \n",
    "-\n",
    "\n",
    "### The Strategy\n",
    "\n",
    "The goal is to write a gaussian light source to measure attenuations<br>\n",
    "through the lattice. Since only rays which exit the lattice from the<br>\n",
    "rear plane will be measured, restricting the range of the generated <br>\n",
    "rays to those which pass through this plane provides computational<br>\n",
    "savings.<p>\n",
    "\n",
    "My strategy for attaining these savings is as follows:\n",
    "- Estimate the number of gaussian rays needed for 1M rays to land on a given plane.\n",
    "- Create this gaussian distribution on the exit plane.\n",
    "- Pullback the distribution (via rescaling) to the entrance plane.\n"
   ]
  },
  {
   "cell_type": "code",
   "execution_count": 7,
   "metadata": {},
   "outputs": [
    {
     "data": {
      "text/html": [
       "<style>/* Styles used for the Hoogle display in the pager */\n",
       ".hoogle-doc {\n",
       "display: block;\n",
       "padding-bottom: 1.3em;\n",
       "padding-left: 0.4em;\n",
       "}\n",
       ".hoogle-code {\n",
       "display: block;\n",
       "font-family: monospace;\n",
       "white-space: pre;\n",
       "}\n",
       ".hoogle-text {\n",
       "display: block;\n",
       "}\n",
       ".hoogle-name {\n",
       "color: green;\n",
       "font-weight: bold;\n",
       "}\n",
       ".hoogle-head {\n",
       "font-weight: bold;\n",
       "}\n",
       ".hoogle-sub {\n",
       "display: block;\n",
       "margin-left: 0.4em;\n",
       "}\n",
       ".hoogle-package {\n",
       "font-weight: bold;\n",
       "font-style: italic;\n",
       "}\n",
       ".hoogle-module {\n",
       "font-weight: bold;\n",
       "}\n",
       ".hoogle-class {\n",
       "font-weight: bold;\n",
       "}\n",
       ".get-type {\n",
       "color: green;\n",
       "font-weight: bold;\n",
       "font-family: monospace;\n",
       "display: block;\n",
       "white-space: pre-wrap;\n",
       "}\n",
       ".show-type {\n",
       "color: green;\n",
       "font-weight: bold;\n",
       "font-family: monospace;\n",
       "margin-left: 1em;\n",
       "}\n",
       ".mono {\n",
       "font-family: monospace;\n",
       "display: block;\n",
       "}\n",
       ".err-msg {\n",
       "color: red;\n",
       "font-style: italic;\n",
       "font-family: monospace;\n",
       "white-space: pre;\n",
       "display: block;\n",
       "}\n",
       "#unshowable {\n",
       "color: red;\n",
       "font-weight: bold;\n",
       "}\n",
       ".err-msg.in.collapse {\n",
       "padding-top: 0.7em;\n",
       "}\n",
       ".highlight-code {\n",
       "white-space: pre;\n",
       "font-family: monospace;\n",
       "}\n",
       ".suggestion-warning { \n",
       "font-weight: bold;\n",
       "color: rgb(200, 130, 0);\n",
       "}\n",
       ".suggestion-error { \n",
       "font-weight: bold;\n",
       "color: red;\n",
       "}\n",
       ".suggestion-name {\n",
       "font-weight: bold;\n",
       "}\n",
       "</style><span class='err-msg'>&lt;interactive&gt;:1:1: error:<br/>    Failed to load interface for ‘Data.Random.Normal’</span>"
      ],
      "text/plain": [
       "<interactive>:1:1: error:\n",
       "    Failed to load interface for ‘Data.Random.Normal’\n",
       "    Use -v to see a list of the files searched for."
      ]
     },
     "metadata": {},
     "output_type": "display_data"
    }
   ],
   "source": [
    "import Data.Random.Normal\n",
    "import Statistics.Distribution.Normal\n",
    "import Statistics.Distribution\n",
    "\n",
    "type Center = Double\n",
    "type Deviation = Double\n",
    "\n",
    "-- Given a center, deviation and possible value returns a probability\n",
    "getProb :: Center -> Deviation -> Double -> Double \n",
    "getProb μ σ x = cumulative (normalDistr μ σ) x\n",
    "\n",
    "-- Calculates needed Rays to have a high probability that\n",
    "-- n rays are within -1 and 1 given deviation σ.\n",
    "neededRays :: Double -> Deviation -> Int -- (10^6)\n",
    "neededRays n σ = truncate $ n / probArea σ (-1, 1)\n",
    "  where\n",
    "    probArea σ (l, u) = getProb 0 σ 1 - getProb 0 σ (-1)\n"
   ]
  },
  {
   "cell_type": "markdown",
   "metadata": {},
   "source": [
    "The code above calculates the needed rays. From these calculations one can<br>\n",
    "specify a gaussian distribution on the exit plane and have fairly good<br>\n",
    "certainty that about 1 million rays will hit the photographic plate.<p>\n",
    "\n",
    "This is where the dimensions of the given problem enter. The lattice itself<br>\n",
    "has dimensions $1mm^3$ but the gaussian is specified by it's center and so<br>\n",
    "its standard unit is $1/2mm$. To standardize, I decide to use the distributions<br>\n",
    "units and set the lattice to be $2units^3$.<p>\n",
    "\n",
    "The gaussian is determined on the exit plane via the distance from the light source<br>\n",
    "and the given deviation. To transfer this distribution to the entrance plane requires<br>\n",
    "some arithmetic.<br>\n",
    "\n",
    "Given a distance d from source to input plane in standard units, `d + 2` gives the<br>\n",
    "distance from source to exit plane in the same units. Setting `tan θ = 1 / (d + 2) = r / d`,<br>\n",
    "where r is the radius on the input plane, the scaling factor from exit plane to the<br>\n",
    "entrance plane is found to be: `r = d / (d + 2)`.\n",
    "\n"
   ]
  },
  {
   "cell_type": "code",
   "execution_count": 18,
   "metadata": {
    "collapsed": true
   },
   "outputs": [],
   "source": [
    "type Ray = (EntryCoords, EntryAngles)\n",
    "type EntryAngles = (Double, Double)\n",
    "type EntryCoords = (Double, Double)\n",
    "type Distance = Double\n",
    "type Center = Double\n",
    "type Beam = [Ray]\n",
    "\n",
    "center = 50\n",
    "\n",
    "ray :: Distance -> EntryCoords -> Ray\n",
    "ray d (x, z) = ((coords x (d/2), coords z (d/2)), (angles x d, angles z d))\n",
    "  where\n",
    "    -- @(x > 0, d == 0) => 1.1071487177940904\n",
    "    -- @(x < 0, d == 0) => 2.0344439357957027\n",
    "    coords t d = center * t * d / (d + 1) + center\n",
    "    angles t d | t > 0 = atan ((d+2)/t)\n",
    "               | otherwise = pi + atan ((d+2)/t)"
   ]
  },
  {
   "cell_type": "markdown",
   "metadata": {
    "collapsed": true
   },
   "source": [
    "Then using transport: transport cs as => Spew City\n"
   ]
  },
  {
   "cell_type": "code",
   "execution_count": null,
   "metadata": {
    "collapsed": true
   },
   "outputs": [],
   "source": []
  },
  {
   "cell_type": "code",
   "execution_count": null,
   "metadata": {
    "collapsed": true
   },
   "outputs": [],
   "source": []
  }
 ],
 "metadata": {
  "kernelspec": {
   "display_name": "Haskell",
   "language": "haskell",
   "name": "haskell"
  },
  "language_info": {
   "codemirror_mode": "ihaskell",
   "file_extension": ".hs",
   "name": "haskell",
   "version": "8.0.2"
  }
 },
 "nbformat": 4,
 "nbformat_minor": 2
}
