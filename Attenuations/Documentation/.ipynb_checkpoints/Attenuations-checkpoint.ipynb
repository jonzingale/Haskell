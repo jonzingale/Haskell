{
 "cells": [
  {
   "cell_type": "markdown",
   "metadata": {},
   "source": [
    "## Overview\n",
    "\n",
    "\n"
   ]
  },
  {
   "cell_type": "markdown",
   "metadata": {},
   "source": [
    "#### Some Modules to Consider:\n",
    "\n",
    "* <a href=\"https://hackage.haskell.org/package/accelerate\">Accelerate: GPU processing</a>\n",
    "* <a href=\"https://hackage.haskell.org/package/vector\">Vector or Array: fast indexes</a>\n",
    "* <a href=\"https://downloads.haskell.org/~ghc/7.0.3/docs/html/users_guide/lang-parallel.html\">Concurrency</a>\n",
    "\n",
    "These will likely be useful in the development of the ray tracer."
   ]
  },
  {
   "cell_type": "code",
   "execution_count": null,
   "metadata": {
    "collapsed": true
   },
   "outputs": [],
   "source": []
  },
  {
   "cell_type": "code",
   "execution_count": null,
   "metadata": {
    "collapsed": true
   },
   "outputs": [],
   "source": []
  },
  {
   "cell_type": "code",
   "execution_count": null,
   "metadata": {
    "collapsed": true
   },
   "outputs": [],
   "source": []
  }
 ],
 "metadata": {
  "kernelspec": {
   "display_name": "Haskell",
   "language": "haskell",
   "name": "haskell"
  },
  "language_info": {
   "codemirror_mode": "ihaskell",
   "file_extension": ".hs",
   "name": "haskell",
   "version": "8.0.2"
  }
 },
 "nbformat": 4,
 "nbformat_minor": 2
}
