{
 "cells": [
  {
   "cell_type": "markdown",
   "metadata": {},
   "source": [
    "## File Writing:\n",
    "\n",
    "This document will describe a method for generating a file of random `Double` precision<br>\n",
    "floats in a format similar to the one needed for the ray-tracing parser. It can be seen<br>\n",
    "as a variation of the simpler bash script: `seq 1 1000000 > data`."
   ]
  },
  {
   "cell_type": "code",
   "execution_count": 11,
   "metadata": {},
   "outputs": [],
   "source": [
    "import Data.Array.Unboxed\n",
    "import System.Random\n",
    "\n",
    "saveArr = writeFile \"./Tests/data\" $ unlines.map show $ elems bigArray\n",
    "\n",
    "bigArray :: UArray Int Double\n",
    "bigArray = listArray bounds $ randomRs (0, 1::Double).mkStdGen $ 42\n",
    "  where bounds = (0::Int, 10^6-1)"
   ]
  },
  {
   "cell_type": "markdown",
   "metadata": {},
   "source": [
    "running `saveArr` produces a file with `1 Million` line-delimited `Double` precision floats.<br>\n",
    "```\n",
    "1.0663729393723398e-2\n",
    "0.9827538369038856\n",
    "0.7042944187434987\n",
    "0.11924823950991781\n",
    "0.2625506456047775\n",
    "0.6085758703096958\n",
    "0.564751246027615\n",
    "0.9873934690803106\n",
    "0.3794382930121829\n",
    "0.2285653405908732\n",
    "```"
   ]
  }
 ],
 "metadata": {
  "kernelspec": {
   "display_name": "Haskell",
   "language": "haskell",
   "name": "haskell"
  },
  "language_info": {
   "codemirror_mode": "ihaskell",
   "file_extension": ".hs",
   "name": "haskell",
   "version": "8.0.2"
  }
 },
 "nbformat": 4,
 "nbformat_minor": 2
}
