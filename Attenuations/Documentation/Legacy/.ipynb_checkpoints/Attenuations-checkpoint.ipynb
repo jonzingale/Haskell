{
 "cells": [
  {
   "cell_type": "markdown",
   "metadata": {},
   "source": [
    "## Overview\n",
    "\n",
    "\n",
    "* RayLengths per unit cell\n",
    "* Indexing over a $1000\\ cell^3$ lattice\n",
    "* Transport Vectors (fixed resolution?)\n",
    "* Pipelines and Parallelism"
   ]
  },
  {
   "cell_type": "markdown",
   "metadata": {},
   "source": []
  },
  {
   "cell_type": "markdown",
   "metadata": {},
   "source": [
    "#### Some Modules to Consider:\n",
    "\n",
    "* <a href=\"https://hackage.haskell.org/package/accelerate\">Accelerate</a>: GPU processing (installed)<br>\n",
    "  `Data.Array.Accelerate`\n",
    "* <a href=\"https://hackage.haskell.org/package/vector\">Vector or Array</a>: fast indexes\n",
    "* <a href=\"https://downloads.haskell.org/~ghc/7.0.3/docs/html/users_guide/lang-parallel.html\">Concurrency</a>: for you know, concurrency.\n",
    "* <a href=\"https://hackage.haskell.org/package/conduit\">Conduit</a>: data streaming library\n",
    "\n",
    "These will likely be useful in the development of the ray tracer."
   ]
  },
  {
   "cell_type": "code",
   "execution_count": null,
   "metadata": {
    "collapsed": true
   },
   "outputs": [],
   "source": []
  },
  {
   "cell_type": "code",
   "execution_count": null,
   "metadata": {
    "collapsed": true
   },
   "outputs": [],
   "source": []
  },
  {
   "cell_type": "code",
   "execution_count": null,
   "metadata": {
    "collapsed": true
   },
   "outputs": [],
   "source": []
  },
  {
   "cell_type": "code",
   "execution_count": null,
   "metadata": {
    "collapsed": true
   },
   "outputs": [],
   "source": []
  }
 ],
 "metadata": {
  "kernelspec": {
   "display_name": "Haskell",
   "language": "haskell",
   "name": "haskell"
  },
  "language_info": {
   "codemirror_mode": "ihaskell",
   "file_extension": ".hs",
   "name": "haskell",
   "version": "8.0.2"
  }
 },
 "nbformat": 4,
 "nbformat_minor": 2
}
