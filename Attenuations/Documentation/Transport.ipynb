{
 "cells": [
  {
   "cell_type": "markdown",
   "metadata": {},
   "source": [
    "### The Transport Problem\n",
    "\n",
    "```\n",
    "Given a point (x,0) or (0,y) and an angle θ where the ray\n",
    "enters a given lattice, find the entry points for each cell\n",
    "the ray passes through.\n",
    "```\n",
    "\n",
    "Solution:<p>\n",
    "\n",
    "The ray length between any two adjacent lines y=n and y=n+1,<br>\n",
    "with $n {\\in} {\\mathbb Z}$ is directly given by the slope of the ray. To see this<br>\n",
    "consider the equation for a line, $\\ y = mx + b$, and $tan\\ \\theta$,<br>\n",
    "where we understand `tan :: Angle -> Slope`.<p>\n",
    "\n",
    "Clearly any line parallel to the ray has the same length as the ray<br>\n",
    "from $y_n$ to $y_{n+1}$. This implies that adding any constant b does not<br>\n",
    "have an effect on the ray length. Therefore given $y$, the value of $x$<br>\n",
    "at the kth $y$, $x_k$ is given by:\n",
    "\n",
    "<p>$x_k = \\frac{k}{tan\\ \\theta}$<p>\n",
    "\n",
    "ie. Letting $y$ vary along the non-negative integers gives the<br>\n",
    "$x$-valued entry point at the kth cell. Taking the fractional part<br>\n",
    "of the sum of the original x value with its transported value, $x_k$,<br>\n",
    "yields the entry point relative to the particular cell.\n",
    "<p>$x_c = fractional(x + x_k)$<p>\n",
    "\n",
    "The $y$ values at the $x$-crossings are handled similarly:\n",
    "\n",
    "<p>\n",
    "$y_k = {k}*{tan\\ \\theta}$<br>\n",
    "$y_c = fractional({y} + {k*tan\\ \\theta})$"
   ]
  },
  {
   "cell_type": "code",
   "execution_count": 18,
   "metadata": {},
   "outputs": [
    {
     "data": {
      "text/plain": [
       "0.49264068711928477"
      ]
     },
     "metadata": {},
     "output_type": "display_data"
    }
   ],
   "source": [
    "fractional :: Double -> Double\n",
    "fractional = snd.properFraction\n",
    "\n",
    "xks θ = [k / tan θ | k<-[0..]] -- Should these be 1.. ?\n",
    "yks θ = [k * tan θ | k<-[0..]]\n",
    "\n",
    "kthX (x,y) θ k = fractional (x + (xks θ)!!k)\n",
    "\n",
    "kthX (1/4, 0) (pi/8) 3 -- the xth-entry for the 3rd cell"
   ]
  },
  {
   "cell_type": "markdown",
   "metadata": {},
   "source": [
    "#### Test Ideas:\n",
    "* Partials should sum to the Total\n",
    "* Symmetry across the Total\n",
    "* Boundaries, along the axes\n",
    "\n",
    "\n",
    "\n",
    "\n",
    "\n",
    "\n",
    "\n"
   ]
  },
  {
   "cell_type": "markdown",
   "metadata": {
    "collapsed": true
   },
   "source": [
    "### totalAttenuation\n",
    "\n",
    "* array lengths should really be dependent on path lengths. These<br>\n",
    "  will be better written as a conditional on limit: x<1000 && y<1000.\n",
    "  \n",
    "\n",
    "```\n",
    "totalAttenuation (x,y) θ ary =\n",
    "  let xcrossings = [ x + k / tan θ | k <- [0..999]] in\n",
    "  let ycrossings = [ y + k * tan θ | k <- [0..999]] in\n",
    "  walk xcrossings ycrossings θ ary\n",
    "\n",
    "  where\n",
    "    walk _ [] _ _ = 0\n",
    "    walk [] _ _ _ = 0\n",
    "    walk (x:xs) (y:ys) theta ary =\n",
    "      let val = qArray (floor x, floor y) ary in\n",
    "      case x < y of\n",
    "      True -> -- bottom entry in frame\n",
    "        val * rayLength (fractional x, 0) θ + walk xs (y:ys) θ ary\n",
    "      False -> -- side entry in frame\n",
    "        val * rayLength (0, fractional y) θ + walk (x:xs) ys θ ary\n",
    "```"
   ]
  },
  {
   "cell_type": "markdown",
   "metadata": {
    "collapsed": true
   },
   "source": [
    "### totalRayLength\n",
    "\n",
    "A reasonable application for the solution above is to write a function which calculates<br>\n",
    "the total ray length through a given 2-dimensional lattice. It is assumed here that the<br>\n",
    "lattice is oriented such that the ray always enters by crossing the face $y=0$. Because<br>\n",
    "of this assumption, the `xcrossings` and `ycrossings` functions below must be initialized<br>\n",
    "accordingly. An additional (temporary) assumption is that $\\theta \\leq \\pi/2$. Altogether note that<br>\n",
    "`totalRayLength` is dependent here on $x$ and $θ$ alone.\n",
    "\n",
    "To be clear, the meaning of `xcrossings` is really the value of $x$ at each $y=k$, and the<br>\n",
    "meaning of `ycrossings` is the value of $y$ at each $x=k$.\n",
    "\n",
    "```\n",
    "totalRayLength (x,y) θ size =\n",
    "  let xcrossings = [ x + k / tan θ | k <- [0..size-1]] in\n",
    "  let ycrossings = [ y + k * tan θ | k <- [0..size-1]] in\n",
    "\n",
    "  walk xcrossings ycrossings θ\n",
    "\n",
    "  where\n",
    "    walk _ [] _ = 0\n",
    "    walk [] _ _ = 0\n",
    "    walk (x:xs) (y:ys) θ = case x < y of\n",
    "      True ->\n",
    "        rayLength (fractional x, 0) θ + walk xs (y:ys) θ\n",
    "      False ->\n",
    "        rayLength (0, fractional y) θ + walk (x:xs) ys θ\n",
    "```"
   ]
  },
  {
   "cell_type": "code",
   "execution_count": null,
   "metadata": {
    "collapsed": true
   },
   "outputs": [],
   "source": []
  }
 ],
 "metadata": {
  "kernelspec": {
   "display_name": "Haskell",
   "language": "haskell",
   "name": "haskell"
  },
  "language_info": {
   "codemirror_mode": "ihaskell",
   "file_extension": ".hs",
   "name": "haskell",
   "version": "8.0.2"
  }
 },
 "nbformat": 4,
 "nbformat_minor": 2
}
