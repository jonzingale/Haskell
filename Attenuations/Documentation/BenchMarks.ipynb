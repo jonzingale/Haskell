{
 "cells": [
  {
   "cell_type": "markdown",
   "metadata": {},
   "source": [
    "## BenchMarks & Compilation Details\n",
    "\n",
    "Included here are various benchmarks for traces performed on:\n",
    "\n",
    "```\n",
    "Model Name:\tMacBook Pro\n",
    "Processor Name:\tIntel Core i7\n",
    "Processor Speed:\t2.3 GHz\n",
    "Number of Processors:\t1\n",
    "Total Number of Cores:\t4\n",
    "L2 Cache (per Core):\t256 KB\n",
    "L3 Cache:\t6 MB\n",
    "Memory:\t16 GB\n",
    "```\n",
    "\n",
    "To Compile and Run DataWriter:\n",
    "```\n",
    "ghc -O2 MainWriter.hs\n",
    "time ./MainWriter 500\n",
    "rm MainWriter.o MainWriter.hi MainWriter\n",
    "```\n",
    "\n",
    "To Compile and Run Tracer:\n",
    "```\n",
    "ghc -O2 --make Main.hs -threaded -rtsopts\n",
    "time ./Main +RTS -N8\n",
    "time ./Main Data/dataStratifiedArray3D_100 +RTS -N8\n",
    "rm Main.o Main.hi Main RayTracer/*.o RayTracer/*.hi\n",
    "```\n",
    "\n",
    "Benchmarks for running Main:\n",
    "```\n",
    "size   ary_size   time          rays\n",
    "19  MB 100^3      real: 1.3mins 1M\n",
    "302 MB 250^3      real: 2.5mins 1M\n",
    "2.42GB 500^3      real: 18mins  1M\n",
    "6.65GB 700^3      user: 40mins  1M\n",
    "19.4GB 1000^3     real: 80mins  1M\n",
    "\n",
    "19  MB 100^3      user: 1.4mins 3M\n",
    "302 MB 250^3      real: 9  mins 3M\n",
    "2.42GB 500^3      user: 30mins  3M\n",
    "```\n"
   ]
  },
  {
   "cell_type": "code",
   "execution_count": 1,
   "metadata": {
    "collapsed": true
   },
   "outputs": [],
   "source": [
    "-- Estimation functions\n",
    "arySize x = -- for 1000, size -> 1 terrabyte\n",
    "  let a = 8657703.9 in\n",
    "  let b = 1.011799709 in\n",
    "  a * b ** x\n",
    "\n",
    "aryTime x = -- for 1000, time -> 63 mins\n",
    "  let a = -141.595473 in\n",
    "  let b = 9.90916174 in\n",
    "  a + b * log x\n"
   ]
  },
  {
   "cell_type": "code",
   "execution_count": null,
   "metadata": {
    "collapsed": true
   },
   "outputs": [],
   "source": []
  }
 ],
 "metadata": {
  "kernelspec": {
   "display_name": "Haskell",
   "language": "haskell",
   "name": "haskell"
  },
  "language_info": {
   "codemirror_mode": "ihaskell",
   "file_extension": ".hs",
   "name": "haskell",
   "version": "8.0.2"
  }
 },
 "nbformat": 4,
 "nbformat_minor": 2
}
