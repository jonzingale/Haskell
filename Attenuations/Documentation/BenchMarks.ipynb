{
 "cells": [
  {
   "cell_type": "markdown",
   "metadata": {},
   "source": [
    "## BenchMarks & Compilation Details\n",
    "\n",
    "Included here are various benchmarks for traces performed on:\n",
    "\n",
    "```\n",
    "Model Name:\tMacBook Pro\n",
    "Processor Name:\tIntel Core i7\n",
    "Processor Speed:\t2.3 GHz\n",
    "Number of Processors:\t1\n",
    "Total Number of Cores:\t4\n",
    "L2 Cache (per Core):\t256 KB\n",
    "L3 Cache:\t6 MB\n",
    "Memory:\t16 GB\n",
    "```\n",
    "\n",
    "To Compile and Run DataWriter:\n",
    "```\n",
    "ghc -O2 MainWriter.hs\n",
    "time ./MainWriter 500\n",
    "rm MainWriter.o MainWriter.hi MainWriter\n",
    "```\n",
    "\n",
    "To Compile and Run Tracer:\n",
    "```\n",
    "ghc -O2 --make Main.hs -threaded -rtsopts\n",
    "time ./Main +RTS -N8\n",
    "time ./Main Data/dataStratifiedArray3D_100 +RTS -N8\n",
    "rm Main.o Main.hi Main RayTracer/*.o RayTracer/*.hi\n",
    "```\n",
    "\n",
    "Benchmarks for running Main:\n",
    "```\n",
    "size   ary_size   time          rays\n",
    "19  MB 100^3      real: 1.3mins 1M\n",
    "302 MB 250^3      real: 2.5mins 1M\n",
    "2.42GB 500^3      real: 18mins  1M\n",
    "6.65GB 700^3      user: 36mins  1M\n",
    "19.4GB 1000^3     real: 80mins  1M * verify\n",
    "\n",
    "19  MB 100^3      user: 1.4mins 3M\n",
    "302 MB 250^3      real: 9  mins 3M\n",
    "2.42GB 500^3      user: 30mins  3M\n",
    "19.4GB 1000^3     real: _mins  3M * verify\n",
    "```\n"
   ]
  },
  {
   "cell_type": "code",
   "execution_count": 25,
   "metadata": {},
   "outputs": [
    {
     "data": {
      "text/plain": [
       "104.0571136222 minutes"
      ]
     },
     "metadata": {},
     "output_type": "display_data"
    },
    {
     "data": {
      "text/plain": [
       "78.8213424 minutes"
      ]
     },
     "metadata": {},
     "output_type": "display_data"
    },
    {
     "data": {
      "text/plain": [
       "19238.85662 megabytes"
      ]
     },
     "metadata": {},
     "output_type": "display_data"
    }
   ],
   "source": [
    "-- Estimation functions\n",
    "type FileSizeMB = Double\n",
    "type ArySize = Double\n",
    "type Minutes = Double\n",
    "\n",
    "getEstimate :: String -> (Double -> Double) -> Double -> IO()\n",
    "getEstimate s f t = do\n",
    "    let result = f t\n",
    "    putStr $ show result ++ s\n",
    "\n",
    "-- file size seems quadratic in ary size\n",
    "arySize :: ArySize -> FileSizeMB\n",
    "arySize s =\n",
    "  let a = 1470.85811 in\n",
    "  let b = -14.60039033 in\n",
    "  let c = 0.03236838884 in\n",
    "  a + b * s + c * s ** 2\n",
    "\n",
    "-- time seems quadratic in ary size\n",
    "arySizeToTime :: ArySize -> Minutes\n",
    "arySizeToTime s =\n",
    "  let a = 1.3323308 in\n",
    "  let b = -0.01422257 in\n",
    "  let c = 0.0000917115816 in\n",
    "  a + b * s + c * s ** 2\n",
    "\n",
    "-- time seems linear in file size\n",
    "fileSizeToTime :: FileSizeMB -> Minutes\n",
    "fileSizeToTime mb =\n",
    "  let a = 2.097964411 in\n",
    "  let b = 0.005255626248 in\n",
    "  a + b * mb\n",
    "\n",
    "\n",
    "getEstimate \" minutes\" fileSizeToTime 19400 -- 19.4GB\n",
    "getEstimate \" minutes\" arySizeToTime 1000\n",
    "getEstimate \" megabytes\" arySize 1000"
   ]
  },
  {
   "cell_type": "code",
   "execution_count": null,
   "metadata": {
    "collapsed": true
   },
   "outputs": [],
   "source": []
  }
 ],
 "metadata": {
  "kernelspec": {
   "display_name": "Haskell",
   "language": "haskell",
   "name": "haskell"
  },
  "language_info": {
   "codemirror_mode": "ihaskell",
   "file_extension": ".hs",
   "name": "haskell",
   "version": "8.0.2"
  }
 },
 "nbformat": 4,
 "nbformat_minor": 2
}
