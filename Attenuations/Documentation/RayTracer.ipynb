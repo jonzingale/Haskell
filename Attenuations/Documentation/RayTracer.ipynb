{
 "cells": [
  {
   "cell_type": "markdown",
   "metadata": {},
   "source": [
    "### The goal thus far.\n",
    "From a $1000\\, cell^3$ mesh of distributed opacity values,<br>\n",
    "calculate the path sums through the mesh. Accuracy is<br>\n",
    "up to the length of a ray through each given cell.<p>"
   ]
  },
  {
   "cell_type": "markdown",
   "metadata": {},
   "source": [
    "#### The 2-D Case and the `rabbit` function:\n",
    "\n",
    "Given a slope $(n,d)$ entering the mesh through a vertex,<br>\n",
    "`rabbits` produces the rhythm of the index walk through<br>\n",
    "the mesh. Effectively, it is a `fizzBuzz` algorithm.<p>\n",
    "For completeness, I should show that any path not<br>\n",
    "necessarily through a vertex is just `rabbits` up to translation.<p>\n",
    "_Note: `rabbits` can be understood more generally as<br>\n",
    "`rabbits :: (Num a, Ord a) => (a, a) -> String`_\n"
   ]
  },
  {
   "cell_type": "code",
   "execution_count": 3,
   "metadata": {},
   "outputs": [
    {
     "data": {
      "text/plain": [
       "\".LrLLrL.LrLLrL.\""
      ]
     },
     "metadata": {},
     "output_type": "display_data"
    }
   ],
   "source": [
    "type Slope = (Double, Double)\n",
    "\n",
    "rabbits :: Slope -> String \n",
    "rabbits (n,d) = f n d 0 0\n",
    "  where\n",
    "    f n d i j | n*i < d*j = 'L' : f n d (i+1) j\n",
    "              | n*i > d*j = 'r' : f n d i (j+1)\n",
    "              | otherwise = '.' : f n d 1 1\n",
    "\n",
    "take 15 $ rabbits (3,5)"
   ]
  },
  {
   "cell_type": "code",
   "execution_count": null,
   "metadata": {
    "collapsed": true
   },
   "outputs": [],
   "source": []
  },
  {
   "cell_type": "markdown",
   "metadata": {},
   "source": [
    "#### Ray length through a cell:\n",
    "\n",
    "\n",
    "\n",
    "\n"
   ]
  },
  {
   "cell_type": "code",
   "execution_count": null,
   "metadata": {
    "collapsed": true
   },
   "outputs": [],
   "source": []
  },
  {
   "cell_type": "code",
   "execution_count": null,
   "metadata": {
    "collapsed": true
   },
   "outputs": [],
   "source": []
  }
 ],
 "metadata": {
  "kernelspec": {
   "display_name": "Haskell",
   "language": "haskell",
   "name": "haskell"
  },
  "language_info": {
   "codemirror_mode": "ihaskell",
   "file_extension": ".hs",
   "name": "haskell",
   "version": "8.0.2"
  }
 },
 "nbformat": 4,
 "nbformat_minor": 2
}
