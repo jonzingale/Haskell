{
 "cells": [
  {
   "cell_type": "markdown",
   "metadata": {},
   "source": [
    "## File Reading:\n",
    "\n",
    "This document outlines techniques for efficiently reading and parsing a<br>\n",
    "given file of `Double` precision `Floats` in Haskell. Further, outlined<br>\n",
    "here is an Api for querying and working with the contents of the file.<p>\n",
    "\n",
    "The following code makes use of a number of libraries and ideas which<br>\n",
    "can be found here: \n",
    "<a href=\"https://wiki.haskell.org/Numeric_Haskell:_A_Vector_Tutorial#An_example:_filling_a_vector_from_a_file\">\n",
    "Numeric_Haskell: A Vector Tutorial</a>. Some of the information<br>\n",
    "found there is a bit outdated, in particular `readDouble` is now <a href=\"https://github.com/wrengr/bytestring-lexing#changes-version-050-2015-05-06-vs-043-2013-03-21\">deprecated</a><br>\n",
    "in favor of `readDecimal`. There are a few loose-ends created in the wake<br>\n",
    "of this change. I hope to cover them here.<p>\n",
    "\n",
    "Essential to what follows are these libraries:\n",
    "* Data.ByteString.Lex.Fractional\n",
    "* Data.ByteString.Char8\n",
    "* Data.Vector.Unboxed\n",
    "* System.Environment"
   ]
  },
  {
   "cell_type": "markdown",
   "metadata": {},
   "source": [
    "### Importing and Parsing\n",
    "\n",
    "After creating a test data file with 1 Million numbers via `bash`: `seq 1 1000000 > data`,<br>\n",
    "we are ready to import the necessary libraries, read the file and parse it. The code below<br>\n",
    "then takes the additional step of summing the contents of the file.<br>\n",
    "```\n",
    "{-# LANGUAGE BangPatterns #-}\n",
    "import qualified Data.ByteString.Char8 as L\n",
    "import qualified Data.ByteString.Lex.Fractional as L\n",
    "import qualified Data.Vector.Unboxed as U\n",
    "import System.Environment\n",
    "\n",
    "main = do\n",
    "    !s <- L.readFile \"./data\"\n",
    "    print . U.sum . parse $ s\n",
    "\n",
    "parse :: L.ByteString -> U.Vector Double\n",
    "parse = U.unfoldr step\n",
    "  where\n",
    "     step !s = case L.readDecimal s of\n",
    "        Nothing       -> Nothing\n",
    "        Just (!k, !t) -> Just (k, L.tail t)\n",
    "```\n",
    "Notice the use of `{-# LANGUAGE BangPatterns #-}` and the corresponding `!`<br>\n",
    "prepended to the parsers `step` variable. The bang ensures that the file is read<br>\n",
    "`strictly`. The two `ByteString` libraries do not have functional overlap and so<br>\n",
    "can be qualified by the same scoping `L`. To facilitate data handling the contents<br>\n",
    "are interpreted as `Unboxed Vector Doubles`."
   ]
  },
  {
   "cell_type": "markdown",
   "metadata": {},
   "source": [
    "### Compilation\n",
    "\n",
    "While running the parser above can be done in the interactive environment,<br>\n",
    "a pretty tremendous speed up is gained by compiling with the `-Odph` flags.<br>\n",
    "Naming the above code `FileToVector.hs`, I proceed to compile via:<br>\n",
    "`ghc -Odph --make FileToVector.hs`,<br>\n",
    "    and run via `time ./FileToVector`<p>\n",
    "Comparison with `ghci` gives: \n",
    "* uncompiled =>(0.75 secs, 686,023,208 bytes)\n",
    "* compiled => real\t0m0.072s\n"
   ]
  },
  {
   "cell_type": "code",
   "execution_count": null,
   "metadata": {
    "collapsed": true
   },
   "outputs": [],
   "source": []
  }
 ],
 "metadata": {
  "kernelspec": {
   "display_name": "Haskell",
   "language": "haskell",
   "name": "haskell"
  },
  "language_info": {
   "codemirror_mode": "ihaskell",
   "file_extension": ".hs",
   "name": "haskell",
   "version": "8.0.2"
  }
 },
 "nbformat": 4,
 "nbformat_minor": 2
}
