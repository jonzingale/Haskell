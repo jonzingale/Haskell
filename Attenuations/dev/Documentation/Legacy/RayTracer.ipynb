{
 "cells": [
  {
   "cell_type": "markdown",
   "metadata": {},
   "source": [
    "### The goal thus far.\n",
    "From a $1000\\, cell^3$ mesh of distributed opacity values,<br>\n",
    "calculate the path sums through the mesh. Accuracy is<br>\n",
    "up to the length of a ray through each given cell.<p>"
   ]
  },
  {
   "cell_type": "markdown",
   "metadata": {},
   "source": [
    "#### The 2-D Case and the `rabbit` function:\n",
    "\n",
    "Given a slope $(n,d)$ entering the mesh through a vertex,<br>\n",
    "`rabbits` produces the rhythm of the index walk through<br>\n",
    "the mesh. Effectively, it is a `fizzBuzz` algorithm.<p>\n",
    "For completeness, I should show that any path not<br>\n",
    "necessarily through a vertex is just `rabbits` up to translation.<p>\n",
    "_Note: `rabbits` can be understood more generally as<br>\n",
    "`rabbits :: (Num a, Ord a) => (a, a) -> String`_\n"
   ]
  },
  {
   "cell_type": "code",
   "execution_count": 3,
   "metadata": {},
   "outputs": [
    {
     "data": {
      "text/plain": [
       "\".LrLLrL.LrLLrL.\""
      ]
     },
     "metadata": {},
     "output_type": "display_data"
    }
   ],
   "source": [
    "type Slope = (Double, Double)\n",
    "\n",
    "rabbits :: Slope -> String \n",
    "rabbits (n,d) = f n d 0 0\n",
    "  where\n",
    "    f n d i j | n*i < d*j = 'L' : f n d (i+1) j\n",
    "              | n*i > d*j = 'r' : f n d i (j+1)\n",
    "              | otherwise = '.' : f n d 1 1\n",
    "\n",
    "take 15 $ rabbits (3,5)"
   ]
  },
  {
   "cell_type": "code",
   "execution_count": null,
   "metadata": {
    "collapsed": true
   },
   "outputs": [],
   "source": []
  },
  {
   "cell_type": "markdown",
   "metadata": {},
   "source": [
    "#### Ray length through a cell:\n",
    "\n",
    "I will need to calculate the ray length per unit cell given an entry `point`<br>\n",
    "and either a `slope` or an `angle` (radians say). These calculations ought<br>\n",
    "to be fairly straight-forward trigonometry, though some special cases will<br>\n",
    "need to be handled with care.<p>\n",
    "* Orientation of the ray\n",
    "* Acute versus obtuse angles\n",
    "I begin by defining some useful type synonyms and conversion methods.<br>"
   ]
  },
  {
   "cell_type": "code",
   "execution_count": 3,
   "metadata": {
    "collapsed": true
   },
   "outputs": [],
   "source": [
    "type Point = (Double, Double)\n",
    "type Slope = (Double, Double)\n",
    "type Angle = Double\n",
    "\n",
    "toAngleDeg, toAngleRad :: Slope -> Angle\n",
    "toAngleDeg (n,d) = atan (n/d) * 180 / pi\n",
    "toAngleRad (n,d) = atan (n/d)"
   ]
  },
  {
   "cell_type": "markdown",
   "metadata": {
    "collapsed": true
   },
   "source": [
    "Next, I proceed to write the two rayLength methods with tests."
   ]
  },
  {
   "cell_type": "code",
   "execution_count": 5,
   "metadata": {},
   "outputs": [
    {
     "data": {
      "text/plain": [
       "True"
      ]
     },
     "metadata": {},
     "output_type": "display_data"
    }
   ],
   "source": [
    "rayLength :: Point -> Angle -> Double -- needs negative angle cases.\n",
    "rayLength (x, y) theta | abs theta <= (pi/4) = (1-x)/(cos theta)\n",
    "                       | otherwise = (1-x)/(sin theta)\n",
    "\n",
    "rayLength' :: Point -> Slope -> Double\n",
    "rayLength' (x, y) = rayLength (x,y).toAngleRad \n",
    "\n",
    "testRL  = rayLength  (5/14, 0) $ toAngleRad (14,19)\n",
    "testRL' = rayLength' (5/14, 0) (14,19)\n",
    "\n",
    "testRL == testRL'"
   ]
  },
  {
   "cell_type": "markdown",
   "metadata": {
    "collapsed": true
   },
   "source": [
    "#### Getting the Regions:\n",
    "\n",
    "The ray lengths are very much region dependent. Below I define appropriate<br>\n",
    "regions for producing valid test data.\n",
    "```\n",
    "  δ β\n",
    "ε_\\|/_α : For rays entering through the bottom of a cell.\n",
    "\n",
    " ρ\n",
    "|/_κ : For rays entering through the left side of a cell.\n",
    "\n",
    "  ρ' \n",
    "κ'_\\| : For rays entering through the right side of a cell.\n",
    "```\n",
    "<p>With associated Generators:<br>\n",
    "\n",
    "```\n",
    "epsilonRegion x = choose (3*pi/4 + x*pi/4, pi) -- super-εδ-Condition\n",
    "deltaRegion x = choose (pi/2, pi/2 + x*pi/4) -- sub-εδ-Condition\n",
    "\n",
    "betaRegion  x = choose ((1+x) * pi/4, pi/2) -- super-αβ-Condition\n",
    "alphaRegion x = choose (0, (1+x) * pi/4) -- sub-αβ-Condition\n",
    "\n",
    "rhoRegion x = choose (pi/4, (1+x) * pi/4) -- super-ρκ-Condition\n",
    "kappaRegion x = choose (0, (1-x) * pi/4) -- sub-ρκ-Condition\n",
    "```"
   ]
  },
  {
   "cell_type": "code",
   "execution_count": null,
   "metadata": {
    "collapsed": true
   },
   "outputs": [],
   "source": []
  },
  {
   "cell_type": "code",
   "execution_count": null,
   "metadata": {
    "collapsed": true
   },
   "outputs": [],
   "source": []
  }
 ],
 "metadata": {
  "kernelspec": {
   "display_name": "Haskell",
   "language": "haskell",
   "name": "haskell"
  },
  "language_info": {
   "codemirror_mode": "ihaskell",
   "file_extension": ".hs",
   "name": "haskell",
   "version": "8.0.2"
  }
 },
 "nbformat": 4,
 "nbformat_minor": 2
}
