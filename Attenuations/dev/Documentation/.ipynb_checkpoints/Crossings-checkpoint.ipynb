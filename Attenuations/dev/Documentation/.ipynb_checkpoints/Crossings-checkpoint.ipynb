{
 "cells": [
  {
   "cell_type": "markdown",
   "metadata": {},
   "source": [
    "## Crossings\n",
    "\n",
    "The approach to raytracing for this particular project begins with calculating where a given ray<br>\n",
    "crosses through any given integer plane. For a given coordinate quadruple (x, z, θ, φ) I construct<br>\n",
    "each of the `xcrossings`, `ycrossings`, and `zcrossings` via iterators. For simplicity, the iterators<br>\n",
    "begin at `1` for the first crossing and lazily evaluate onward to infinity.<p>\n",
    "\n",
    "### Offsets.\n",
    "\n",
    "When a given ray enters a cell, it may do so at either a rational or integer value. To calculate<br>\n",
    "the crossing, `ceiling` and `floor` functions are used which introduce a degree of non-linearity.<br>\n",
    "A ray entered at an integer-valued x, say, and with a small angle `θ where (|θ| < π/2)` will . . .\n",
    "\n",
    "### Determining Coordinates.\n",
    "\n",
    "#### Xcrossings:\n",
    "#### Ycrossings:\n",
    "#### Zcrossings:\n"
   ]
  },
  {
   "cell_type": "code",
   "execution_count": null,
   "metadata": {
    "collapsed": true
   },
   "outputs": [],
   "source": []
  }
 ],
 "metadata": {
  "kernelspec": {
   "display_name": "Haskell",
   "language": "haskell",
   "name": "haskell"
  },
  "language_info": {
   "codemirror_mode": "ihaskell",
   "file_extension": ".hs",
   "name": "haskell",
   "version": "8.0.2"
  }
 },
 "nbformat": 4,
 "nbformat_minor": 2
}
